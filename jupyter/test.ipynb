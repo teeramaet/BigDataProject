{
 "cells": [
  {
   "cell_type": "code",
   "execution_count": 1,
   "id": "17b6beda-85dc-4641-ba50-15ffd512e37a",
   "metadata": {},
   "outputs": [],
   "source": [
    "import sys\n",
    "\n",
    "from pyspark.sql import SparkSession\n",
    "from pyspark.sql.functions import col, when, to_date, monotonically_increasing_id\n",
    "\n",
    "spark = SparkSession.builder\\\n",
    ".master(\"local\")\\\n",
    ".appName(\"Word Count\")\\\n",
    ".getOrCreate()\n",
    "#.config(\"spark.some.config.option\", \"some-value\")\\"
   ]
  },
  {
   "cell_type": "code",
   "execution_count": 2,
   "id": "26a21c98-a9eb-490e-bc71-e64512e0e397",
   "metadata": {},
   "outputs": [],
   "source": [
    "df_src2_1 = spark.read.options(header='true', inferSchema='true').parquet(\"../data_source/parquet/chess_game_SAHIT.parquet\")\n",
    "df1 = spark.read.options(header='true', inferSchema='true').parquet(\"../data_source/parquet/chess_game_REVEL.parquet\")"
   ]
  },
  {
   "cell_type": "code",
   "execution_count": 3,
   "id": "9d358bb9-35b8-48d5-aca7-17c24ef0eb37",
   "metadata": {},
   "outputs": [],
   "source": [
    "df_src2_2 = df_src2_1.withColumnRenamed('Date', 'UTCDate') \n",
    "\n",
    "\n",
    "df2 = df1.withColumn(\"Result\", when((col(\"WhiteRatingDiff\") < 0) & (col(\"BlackRatingDiff\") > 0), \"0-1\")\n",
    "    .when((col(\"WhiteRatingDiff\") > 0) & (col(\"BlackRatingDiff\") < 0), \"1-0\")\n",
    "    .when((col(\"WhiteRatingDiff\") == 0) & (col(\"BlackRatingDiff\") == 0), \"1/2-1/2\")\n",
    "    .otherwise(col(\"Result\"))\n",
    ")\n",
    "\n",
    "df3 = df2.dropDuplicates().drop(\"Format\").drop(\"AN\").drop(\"WhiteRatingDiff\").drop(\"BlackRatingDiff\").drop(\"UTCTime\")\n",
    "df_src2_3 = df_src2_2.dropDuplicates().drop(\"Format\").drop(\"Round\").drop(\"WhiteRatingDiff\")\n",
    "\n"
   ]
  },
  {
   "cell_type": "code",
   "execution_count": null,
   "id": "ac4b9334-8c15-46b6-9b2d-c94c50fcf8a7",
   "metadata": {},
   "outputs": [],
   "source": [
    "df4 = df3.filter(\n",
    "    (df2[\"Event\"].contains(\"Blitz\")) |\n",
    "    (df2[\"Event\"].contains(\"Classic\")) |\n",
    "    (df2[\"Event\"].contains(\"Bullet\"))\n",
    ")\n",
    "df_src2_4 = df_src2_3.filter(\n",
    "    (df_src2_3[\"Event\"].contains(\"Blitz\")) |\n",
    "    (df_src2_3[\"Event\"].contains(\"Classic\")) |\n",
    "    (df_src2_3[\"Event\"].contains(\"Bullet\"))\n",
    ")\n",
    "\n",
    "\n",
    "df5 = df4.withColumn(\"Event\", when(df3[\"Event\"].contains(\"Blitz\"), \"Blitz\").when(df3[\"Event\"].contains(\"Classic\"), \"Classic\").when(df3[\"Event\"].contains(\"Bullet\"), \"Bullet\").otherwise(df3[\"Event\"]))\n",
    "df_src2_5 = df_src2_4.withColumn(\"Event\", when(df_src2_2[\"Event\"].contains(\"Blitz\"), \"Blitz\").when(df_src2_2[\"Event\"].contains(\"Classic\"), \"Classic\").when(df_src2_2[\"Event\"].contains(\"Bullet\"), \"Bullet\").otherwise(df_src2_2[\"Event\"]))\n",
    "\n",
    "df6 = df5.withColumn(\"UTCDate\", to_date(\"UTCDate\", \"yyyy.MM.dd\"))\n",
    "df_src2_6 = df_src2_5.withColumn(\"UTCDate\", to_date(\"UTCDate\", \"yyyy.MM.dd\"))\n",
    "\n",
    "df7 =  df6.filter(col(\"Result\") != '*')\n",
    "## Change this\n",
    "df_src2_7 =  df_src2_6.filter(col(\"Result\") != '*')\n",
    "\n",
    "\n",
    "df8 = df7.withColumn(\"id\", monotonically_increasing_id())\n",
    "df_src2_8 = df_src2_7.withColumn(\"id\", monotonically_increasing_id())\n",
    "\n",
    "\n",
    "df9 = df8.select(\"id\", \"Event\", \"White\", \"Black\", \"Result\", \"UTCDate\", \"WhiteElo\", \"BlackElo\", \"ECO\", \"Opening\", \"Termination\")\n",
    "df_src2_9 = df_src2_8.select(\"id\", \"Event\", \"White\", \"Black\", \"Result\", \"UTCDate\", \"WhiteElo\", \"BlackElo\", \"ECO\", \"Opening\", \"Termination\")\n",
    "\n",
    "\n",
    "df9.show()\n",
    "df_src2_9.show()"
   ]
  },
  {
   "cell_type": "code",
   "execution_count": null,
   "id": "736232a1-e437-42fc-9826-76d5b6bba0ce",
   "metadata": {},
   "outputs": [],
   "source": []
  }
 ],
 "metadata": {
  "kernelspec": {
   "display_name": "Python 3 (ipykernel)",
   "language": "python",
   "name": "python3"
  },
  "language_info": {
   "codemirror_mode": {
    "name": "ipython",
    "version": 3
   },
   "file_extension": ".py",
   "mimetype": "text/x-python",
   "name": "python",
   "nbconvert_exporter": "python",
   "pygments_lexer": "ipython3",
   "version": "3.11.5"
  }
 },
 "nbformat": 4,
 "nbformat_minor": 5
}
