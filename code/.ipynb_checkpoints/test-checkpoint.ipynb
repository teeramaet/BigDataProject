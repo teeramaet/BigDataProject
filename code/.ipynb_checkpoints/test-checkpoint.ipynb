{
 "cells": [
  {
   "cell_type": "code",
   "execution_count": 1,
   "id": "17b6beda-85dc-4641-ba50-15ffd512e37a",
   "metadata": {},
   "outputs": [],
   "source": [
    "import sys\n",
    "\n",
    "from pyspark.sql import SparkSession\n",
    "from pyspark.sql.functions import col, when, to_date, monotonically_increasing_id\n",
    "\n",
    "spark = SparkSession.builder\\\n",
    ".master(\"local\")\\\n",
    ".appName(\"Word Count\")\\\n",
    ".getOrCreate()\n",
    "#.config(\"spark.some.config.option\", \"some-value\")\\"
   ]
  },
  {
   "cell_type": "code",
   "execution_count": null,
   "id": "26a21c98-a9eb-490e-bc71-e64512e0e397",
   "metadata": {},
   "outputs": [],
   "source": [
    "df_src2_1 = spark.read.options(header='true', inferSchema='true').parquet(../data_source/parquet/chess_game_SAHIT)\n",
    "df1 = spark.read.options(header='true', inferSchema='true').parquet(../data_source/parquet/chess_game_REVEL)"
   ]
  }
 ],
 "metadata": {
  "kernelspec": {
   "display_name": "Python 3 (ipykernel)",
   "language": "python",
   "name": "python3"
  },
  "language_info": {
   "codemirror_mode": {
    "name": "ipython",
    "version": 3
   },
   "file_extension": ".py",
   "mimetype": "text/x-python",
   "name": "python",
   "nbconvert_exporter": "python",
   "pygments_lexer": "ipython3",
   "version": "3.11.5"
  }
 },
 "nbformat": 4,
 "nbformat_minor": 5
}
