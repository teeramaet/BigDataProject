{
 "cells": [
  {
   "cell_type": "markdown",
   "metadata": {},
   "source": [
    "## Import"
   ]
  },
  {
   "cell_type": "code",
   "execution_count": 2,
   "metadata": {},
   "outputs": [],
   "source": [
    "import sys\n",
    "\n",
    "from pyspark.sql import SparkSession\n",
    "from pyspark.sql.functions import col, expr, when, udf,isnan, count, sum\n",
    "from pyspark.ml.feature import Imputer\n",
    "from pyspark.ml import Pipeline\n",
    "from pyspark.sql import SparkSession\n",
    "from pyspark.sql.functions import mean"
   ]
  },
  {
   "cell_type": "markdown",
   "metadata": {},
   "source": [
    "## Start Connection"
   ]
  },
  {
   "cell_type": "code",
   "execution_count": 3,
   "metadata": {},
   "outputs": [],
   "source": [
    "spark = SparkSession.builder\\\n",
    ".master(\"local\")\\\n",
    ".appName(\"Word Count\")\\\n",
    ".getOrCreate()\n",
    "#.config(\"spark.some.config.option\", \"some-value\")\\"
   ]
  },
  {
   "cell_type": "markdown",
   "metadata": {},
   "source": [
    "## Basic Info"
   ]
  },
  {
   "cell_type": "code",
   "execution_count": 4,
   "metadata": {},
   "outputs": [],
   "source": [
    "df1 = spark.read.options(header='true', inferSchema='true').csv(\"../data_source/chess_games.csv\")"
   ]
  },
  {
   "cell_type": "code",
   "execution_count": 5,
   "metadata": {},
   "outputs": [
    {
     "name": "stdout",
     "output_type": "stream",
     "text": [
      "+------------------+---------------+----------+------+----------+-------------------+--------+--------+---------------+---------------+---+--------------------+-----------+------------+--------------------+\n",
      "|             Event|          White|     Black|Result|   UTCDate|            UTCTime|WhiteElo|BlackElo|WhiteRatingDiff|BlackRatingDiff|ECO|             Opening|TimeControl| Termination|                  AN|\n",
      "+------------------+---------------+----------+------+----------+-------------------+--------+--------+---------------+---------------+---+--------------------+-----------+------------+--------------------+\n",
      "|        Classical |        eisaaaa|  HAMID449|   1-0|2016.06.30|2023-11-11 22:00:01|    1901|    1896|           11.0|          -11.0|D10|        Slav Defense|      300+5|Time forfeit|1. d4 d5 2. c4 c6...|\n",
      "|            Blitz |         go4jas|Sergei1973|   0-1|2016.06.30|2023-11-11 22:00:01|    1641|    1627|          -11.0|           12.0|C20|King's Pawn Openi...|      300+0|      Normal|1. e4 e5 2. b3 Nf...|\n",
      "| Blitz tournament |Evangelistaizac|    kafune|   1-0|2016.06.30|2023-11-11 22:00:02|    1647|    1688|           13.0|          -13.0|B01|Scandinavian Defe...|      180+0|Time forfeit|1. e4 d5 2. exd5 ...|\n",
      "|   Correspondence |         Jvayne|  Wsjvayne|   1-0|2016.06.30|2023-11-11 22:00:02|    1706|    1317|           27.0|          -25.0|A00|Van't Kruijs Opening|          -|      Normal|1. e3 Nf6 2. Bc4 ...|\n",
      "| Blitz tournament |         kyoday| BrettDale|   0-1|2016.06.30|2023-11-11 22:00:02|    1945|    1900|          -14.0|           13.0|B90|Sicilian Defense:...|      180+0|Time forfeit|1. e4 c5 2. Nf3 d...|\n",
      "+------------------+---------------+----------+------+----------+-------------------+--------+--------+---------------+---------------+---+--------------------+-----------+------------+--------------------+\n",
      "only showing top 5 rows\n",
      "\n",
      "root\n",
      " |-- Event: string (nullable = true)\n",
      " |-- White: string (nullable = true)\n",
      " |-- Black: string (nullable = true)\n",
      " |-- Result: string (nullable = true)\n",
      " |-- UTCDate: string (nullable = true)\n",
      " |-- UTCTime: timestamp (nullable = true)\n",
      " |-- WhiteElo: integer (nullable = true)\n",
      " |-- BlackElo: integer (nullable = true)\n",
      " |-- WhiteRatingDiff: double (nullable = true)\n",
      " |-- BlackRatingDiff: double (nullable = true)\n",
      " |-- ECO: string (nullable = true)\n",
      " |-- Opening: string (nullable = true)\n",
      " |-- TimeControl: string (nullable = true)\n",
      " |-- Termination: string (nullable = true)\n",
      " |-- AN: string (nullable = true)\n",
      "\n"
     ]
    }
   ],
   "source": [
    "df1.show(5)\n",
    "df1.printSchema()"
   ]
  },
  {
   "cell_type": "markdown",
   "metadata": {},
   "source": [
    "### Check for row duplication"
   ]
  },
  {
   "cell_type": "code",
   "execution_count": 6,
   "metadata": {},
   "outputs": [
    {
     "name": "stdout",
     "output_type": "stream",
     "text": [
      "+---------+\n",
      "|dupliacte|\n",
      "+---------+\n",
      "|        2|\n",
      "+---------+\n",
      "\n"
     ]
    }
   ],
   "source": [
    "df1\\\n",
    ".groupBy(df1.columns)\\\n",
    ".count().\\\n",
    "where(col('count') > 1)\\\n",
    ".select(sum('count'))\\\n",
    ".withColumnRenamed(\"sum(count)\", \"dupliacte\")\\\n",
    ".show()"
   ]
  },
  {
   "cell_type": "markdown",
   "metadata": {},
   "source": [
    "### Check for NULL, NAN"
   ]
  },
  {
   "cell_type": "code",
   "execution_count": 7,
   "metadata": {},
   "outputs": [
    {
     "name": "stdout",
     "output_type": "stream",
     "text": [
      "+-----+-----+-----+------+-------+--------+--------+---------------+---------------+---+-------+-----------+-----------+---+\n",
      "|Event|White|Black|Result|UTCDate|WhiteElo|BlackElo|WhiteRatingDiff|BlackRatingDiff|ECO|Opening|TimeControl|Termination| AN|\n",
      "+-----+-----+-----+------+-------+--------+--------+---------------+---------------+---+-------+-----------+-----------+---+\n",
      "|    0|    0|    0|     0|      0|       0|       0|           4668|           4668|  0|      0|          0|          0|  0|\n",
      "+-----+-----+-----+------+-------+--------+--------+---------------+---------------+---+-------+-----------+-----------+---+\n",
      "\n"
     ]
    }
   ],
   "source": [
    "columns_to_check = [c for c in df1.columns if c != 'UTCTime']\n",
    "\n",
    "df1.select([count(when(col(c).isNull(), c)).alias(c) for c in columns_to_check]).show()"
   ]
  },
  {
   "cell_type": "code",
   "execution_count": 8,
   "metadata": {},
   "outputs": [
    {
     "name": "stdout",
     "output_type": "stream",
     "text": [
      "+-----+-----+-----+------+-------+--------+--------+---------------+---------------+---+-------+-----------+-----------+---+\n",
      "|Event|White|Black|Result|UTCDate|WhiteElo|BlackElo|WhiteRatingDiff|BlackRatingDiff|ECO|Opening|TimeControl|Termination| AN|\n",
      "+-----+-----+-----+------+-------+--------+--------+---------------+---------------+---+-------+-----------+-----------+---+\n",
      "|    0|    0|    0|     0|      0|       0|       0|              0|              0|  0|      0|          0|          0|  0|\n",
      "+-----+-----+-----+------+-------+--------+--------+---------------+---------------+---+-------+-----------+-----------+---+\n",
      "\n"
     ]
    }
   ],
   "source": [
    "columns_to_check = [c for c in df1.columns if c != 'UTCTime']\n",
    "\n",
    "df1.select([count(when(isnan(c), c)).alias(c) for c in columns_to_check]).show()"
   ]
  },
  {
   "cell_type": "code",
   "execution_count": 9,
   "metadata": {},
   "outputs": [
    {
     "data": {
      "text/plain": [
       "0"
      ]
     },
     "execution_count": 9,
     "metadata": {},
     "output_type": "execute_result"
    }
   ],
   "source": [
    "df1.filter(col(\"UTCTime\").isNull()).count()"
   ]
  },
  {
   "cell_type": "markdown",
   "metadata": {},
   "source": [
    "## Preprocessing"
   ]
  },
  {
   "cell_type": "markdown",
   "metadata": {},
   "source": [
    "### Drop duplicate rows"
   ]
  },
  {
   "cell_type": "code",
   "execution_count": 10,
   "metadata": {},
   "outputs": [],
   "source": [
    "df2 = df1.dropDuplicates().drop(\"AN\")"
   ]
  },
  {
   "cell_type": "markdown",
   "metadata": {},
   "source": [
    "## Format and filter an Event Column "
   ]
  },
  {
   "cell_type": "code",
   "execution_count": 11,
   "metadata": {},
   "outputs": [],
   "source": [
    "df3 = df2.filter(\n",
    "    (df2[\"Event\"].contains(\"Blitz\")) |\n",
    "    (df2[\"Event\"].contains(\"Classic\")) |\n",
    "    (df2[\"Event\"].contains(\"Bullet\"))\n",
    ")"
   ]
  },
  {
   "cell_type": "code",
   "execution_count": 12,
   "metadata": {},
   "outputs": [],
   "source": [
    "df4 = df3.withColumn(\"Event\", when(df3[\"Event\"].contains(\"Blitz\"), \"Blitz\").when(df3[\"Event\"].contains(\"Classic\"), \"Classic\").when(df3[\"Event\"].contains(\"Bullet\"), \"Bullet\").otherwise(df3[\"Event\"]))"
   ]
  },
  {
   "cell_type": "code",
   "execution_count": 13,
   "metadata": {},
   "outputs": [],
   "source": [
    "df5 = df4.filter(\n",
    "    (df4[\"Result\"] != '*') |\n",
    "    (df4[\"WhiteRatingDiff\"].isNotNull()) |\n",
    "    (df4[\"WhiteRatingDiff\"].isNotNull())\n",
    ")"
   ]
  },
  {
   "cell_type": "code",
   "execution_count": 14,
   "metadata": {},
   "outputs": [],
   "source": [
    "df6 = df5.withColumn(\"Result\", when((col(\"WhiteRatingDiff\") < 0) & (col(\"BlackRatingDiff\") > 0), \"0-1\")\n",
    "    .when((col(\"WhiteRatingDiff\") > 0) & (col(\"BlackRatingDiff\") < 0), \"1-0\")\n",
    "    .when((col(\"WhiteRatingDiff\") == 0) & (col(\"BlackRatingDiff\") == 0), \"1/2-1/2\")\n",
    "    .otherwise(col(\"Result\"))\n",
    ")"
   ]
  },
  {
   "cell_type": "code",
   "execution_count": null,
   "metadata": {},
   "outputs": [],
   "source": [
    "mean_white_rating_diff = df.filter(col(\"Result\") == \"1-0\" & (col(\"WhiteRatingDiff\") > 0)).agg(avg(\"WhiteRatingDiff\")).collect()[0][0]"
   ]
  },
  {
   "cell_type": "code",
   "execution_count": null,
   "metadata": {},
   "outputs": [],
   "source": [
    "df2.show(5)"
   ]
  },
  {
   "cell_type": "code",
   "execution_count": null,
   "metadata": {},
   "outputs": [],
   "source": [
    "df2.groupBy('Event').count().show()"
   ]
  },
  {
   "cell_type": "code",
   "execution_count": null,
   "metadata": {},
   "outputs": [],
   "source": [
    "df2.groupBy('Result').count().show()"
   ]
  },
  {
   "cell_type": "code",
   "execution_count": null,
   "metadata": {},
   "outputs": [],
   "source": [
    "df2.groupBy('Termination').count().show()"
   ]
  },
  {
   "cell_type": "code",
   "execution_count": null,
   "metadata": {},
   "outputs": [],
   "source": [
    "df1.where(\"Termination = 'Rules infraction'\").show()"
   ]
  },
  {
   "cell_type": "code",
   "execution_count": null,
   "metadata": {},
   "outputs": [],
   "source": [
    "df1.where(\"Termination = 'Abandoned'\").show()"
   ]
  },
  {
   "cell_type": "code",
   "execution_count": null,
   "metadata": {},
   "outputs": [],
   "source": [
    "df2.where(\"Result = '*'\").show()"
   ]
  },
  {
   "cell_type": "code",
   "execution_count": null,
   "metadata": {},
   "outputs": [],
   "source": [
    "df2.where(\"Result = '*'\").groupBy('Termination').count().show()"
   ]
  },
  {
   "cell_type": "code",
   "execution_count": null,
   "metadata": {},
   "outputs": [],
   "source": [
    "df2.show()"
   ]
  },
  {
   "cell_type": "code",
   "execution_count": null,
   "metadata": {},
   "outputs": [],
   "source": [
    "columns_to_check = [c for c in df1.columns if c != 'UTCTime']\n",
    "\n",
    "df2.select([count(when(col(c).isNull(), c)).alias(c) for c in columns_to_check]).show()"
   ]
  },
  {
   "cell_type": "code",
   "execution_count": null,
   "metadata": {},
   "outputs": [],
   "source": [
    "df5.where(\"Result = '*'\").show()"
   ]
  },
  {
   "cell_type": "code",
   "execution_count": null,
   "metadata": {},
   "outputs": [],
   "source": [
    "df5.filter(col(\"WhiteRatingDiff\").isNull() & col(\"BlackRatingDiff\").isNull() & (col(\"Result\") == '*')).show()"
   ]
  },
  {
   "cell_type": "code",
   "execution_count": null,
   "metadata": {},
   "outputs": [],
   "source": [
    "df6.filter(col(\"WhiteRatingDiff\").isNull() & col(\"BlackRatingDiff\").isNull() & (col(\"Result\") != '*')).show()"
   ]
  },
  {
   "cell_type": "code",
   "execution_count": null,
   "metadata": {},
   "outputs": [],
   "source": [
    "df5.filter(col(\"WhiteRatingDiff\").isNotNull() & col(\"BlackRatingDiff\").isNotNull() & (col(\"Result\") == '*')).show()"
   ]
  },
  {
   "cell_type": "code",
   "execution_count": null,
   "metadata": {},
   "outputs": [],
   "source": [
    "df6.filter(col(\"WhiteRatingDiff\").isNotNull() & col(\"BlackRatingDiff\").isNotNull() & (col(\"Result\") == '*')).show()"
   ]
  },
  {
   "cell_type": "code",
   "execution_count": null,
   "metadata": {},
   "outputs": [],
   "source": []
  }
 ],
 "metadata": {
  "kernelspec": {
   "display_name": "Python 3 (ipykernel)",
   "language": "python",
   "name": "python3"
  },
  "language_info": {
   "codemirror_mode": {
    "name": "ipython",
    "version": 3
   },
   "file_extension": ".py",
   "mimetype": "text/x-python",
   "name": "python",
   "nbconvert_exporter": "python",
   "pygments_lexer": "ipython3",
   "version": "3.11.5"
  }
 },
 "nbformat": 4,
 "nbformat_minor": 4
}
