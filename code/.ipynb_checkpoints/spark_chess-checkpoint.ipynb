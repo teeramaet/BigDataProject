{
 "cells": [
  {
   "cell_type": "markdown",
   "metadata": {},
   "source": [
    "## Import"
   ]
  },
  {
   "cell_type": "code",
   "execution_count": 23,
   "metadata": {},
   "outputs": [],
   "source": [
    "import sys\n",
    "import math\n",
    "from pyspark.sql import SparkSession\n",
    "from pyspark.sql.types import IntegerType\n",
    "from pyspark.sql.functions import col, when, udf,isnan, count, sum, avg, format_number, round, to_timestamp, to_date, concat, lit, abs, split, monotonically_increasing_id\n",
    "from pyspark.ml.stat import Correlation"
   ]
  },
  {
   "cell_type": "markdown",
   "metadata": {},
   "source": [
    "## Start Connection"
   ]
  },
  {
   "cell_type": "code",
   "execution_count": 2,
   "metadata": {},
   "outputs": [],
   "source": [
    "spark = SparkSession.builder\\\n",
    ".master(\"local\")\\\n",
    ".appName(\"Word Count\")\\\n",
    ".getOrCreate()\n",
    "#.config(\"spark.some.config.option\", \"some-value\")\\"
   ]
  },
  {
   "cell_type": "markdown",
   "metadata": {},
   "source": [
    "## Basic Info"
   ]
  },
  {
   "cell_type": "code",
   "execution_count": 3,
   "metadata": {},
   "outputs": [],
   "source": [
    "df1 = spark.read.options(header='true', inferSchema='true').csv(\"../data_source/chess_games.csv\")"
   ]
  },
  {
   "cell_type": "code",
   "execution_count": 4,
   "metadata": {},
   "outputs": [
    {
     "name": "stdout",
     "output_type": "stream",
     "text": [
      "root\n",
      " |-- Event: string (nullable = true)\n",
      " |-- White: string (nullable = true)\n",
      " |-- Black: string (nullable = true)\n",
      " |-- Result: string (nullable = true)\n",
      " |-- UTCDate: string (nullable = true)\n",
      " |-- UTCTime: timestamp (nullable = true)\n",
      " |-- WhiteElo: integer (nullable = true)\n",
      " |-- BlackElo: integer (nullable = true)\n",
      " |-- WhiteRatingDiff: double (nullable = true)\n",
      " |-- BlackRatingDiff: double (nullable = true)\n",
      " |-- ECO: string (nullable = true)\n",
      " |-- Opening: string (nullable = true)\n",
      " |-- TimeControl: string (nullable = true)\n",
      " |-- Termination: string (nullable = true)\n",
      " |-- AN: string (nullable = true)\n",
      "\n"
     ]
    }
   ],
   "source": [
    "#df1.show()\n",
    "df1.printSchema()"
   ]
  },
  {
   "cell_type": "markdown",
   "metadata": {},
   "source": [
    "### Check for row duplication"
   ]
  },
  {
   "cell_type": "code",
   "execution_count": null,
   "metadata": {},
   "outputs": [],
   "source": [
    "df1\\\n",
    ".groupBy(df1.columns)\\\n",
    ".count().\\\n",
    "where(col('count') > 1)\\\n",
    ".select(sum('count'))\\\n",
    ".withColumnRenamed(\"sum(count)\", \"dupliacte\")\\\n",
    ".show()"
   ]
  },
  {
   "cell_type": "markdown",
   "metadata": {},
   "source": [
    "### Check for NULL, NAN"
   ]
  },
  {
   "cell_type": "code",
   "execution_count": null,
   "metadata": {},
   "outputs": [],
   "source": [
    "columns_to_check = [c for c in df1.columns if c != 'UTCTime']\n",
    "\n",
    "df1.select([count(when(col(c).isNull(), c)).alias(c) for c in columns_to_check]).show()"
   ]
  },
  {
   "cell_type": "code",
   "execution_count": null,
   "metadata": {},
   "outputs": [],
   "source": [
    "columns_to_check = [c for c in df1.columns if c != 'UTCTime']\n",
    "\n",
    "df1.select([count(when(isnan(c), c)).alias(c) for c in columns_to_check]).show()"
   ]
  },
  {
   "cell_type": "code",
   "execution_count": null,
   "metadata": {},
   "outputs": [],
   "source": [
    "df1.filter(col(\"UTCTime\").isNull()).count()"
   ]
  },
  {
   "cell_type": "code",
   "execution_count": null,
   "metadata": {},
   "outputs": [],
   "source": [
    "'''\n",
    "df1 = df1.withColumn(\"diff\", abs(col(\"WhiteElo\") - col(\"BlackElo\")))\n",
    "df1 = df1.withColumn(\"penalty\", abs(col(\"WhiteRatingDiff\")) + abs(col(\"BlackRatingDiff\")))\n",
    "df2.show()\n",
    "'''"
   ]
  },
  {
   "cell_type": "code",
   "execution_count": null,
   "metadata": {},
   "outputs": [],
   "source": [
    "#df1.corr(\"penalty\", \"diff\")"
   ]
  },
  {
   "cell_type": "markdown",
   "metadata": {},
   "source": [
    "## Preprocessing"
   ]
  },
  {
   "cell_type": "markdown",
   "metadata": {},
   "source": [
    "### Drop duplicate rows"
   ]
  },
  {
   "cell_type": "code",
   "execution_count": 7,
   "metadata": {},
   "outputs": [],
   "source": [
    "df2 = df1.withColumn(\"Result\", when((col(\"WhiteRatingDiff\") < 0) & (col(\"BlackRatingDiff\") > 0), \"0-1\")\n",
    "    .when((col(\"WhiteRatingDiff\") > 0) & (col(\"BlackRatingDiff\") < 0), \"1-0\")\n",
    "    .when((col(\"WhiteRatingDiff\") == 0) & (col(\"BlackRatingDiff\") == 0), \"1/2-1/2\")\n",
    "    .otherwise(col(\"Result\"))\n",
    ")"
   ]
  },
  {
   "cell_type": "code",
   "execution_count": 8,
   "metadata": {},
   "outputs": [],
   "source": [
    "df3 = df2.dropDuplicates().drop(\"TimeControl\").drop(\"AN\").drop(\"WhiteRatingDiff\").drop(\"BlackRatingDiff\").drop(\"UTCTime\")"
   ]
  },
  {
   "cell_type": "markdown",
   "metadata": {},
   "source": [
    "## Format and filter an Event Column "
   ]
  },
  {
   "cell_type": "code",
   "execution_count": 9,
   "metadata": {},
   "outputs": [],
   "source": [
    "df4 = df3.filter(\n",
    "    (df2[\"Event\"].contains(\"Blitz\")) |\n",
    "    (df2[\"Event\"].contains(\"Classic\")) |\n",
    "    (df2[\"Event\"].contains(\"Bullet\"))\n",
    ")"
   ]
  },
  {
   "cell_type": "code",
   "execution_count": 10,
   "metadata": {},
   "outputs": [],
   "source": [
    "df5 = df4.withColumn(\"Event\", when(df3[\"Event\"].contains(\"Blitz\"), \"Blitz\").when(df3[\"Event\"].contains(\"Classic\"), \"Classic\").when(df3[\"Event\"].contains(\"Bullet\"), \"Bullet\").otherwise(df3[\"Event\"]))"
   ]
  },
  {
   "cell_type": "code",
   "execution_count": null,
   "metadata": {},
   "outputs": [],
   "source": [
    "'''\n",
    "df5 = df4.filter(\n",
    "    (df4[\"Result\"] != '*') |\n",
    "    (df4[\"WhiteRatingDiff\"].isNotNull()) |\n",
    "    (df4[\"BlackRatingDiff\"].isNotNull())\n",
    ")\n",
    "'''"
   ]
  },
  {
   "cell_type": "code",
   "execution_count": null,
   "metadata": {},
   "outputs": [],
   "source": [
    "'''\n",
    "mean_white_rating_diff_white_win = df6.filter(col(\"Result\") == \"1-0\" ).agg(avg(\"WhiteRatingDiff\")).collect()[0][0]\n",
    "mean_black_rating_diff_white_win = df6.filter(col(\"Result\") == \"1-0\" ).agg(avg(\"BlackRatingDiff\")).collect()[0][0]\n",
    "mean_white_rating_diff_black_win = df6.filter(col(\"Result\") == \"0-1\" ).agg(avg(\"WhiteRatingDiff\")).collect()[0][0]\n",
    "mean_black_rating_diff_black_win = df6.filter(col(\"Result\") == \"0-1\" ).agg(avg(\"BlackRatingDiff\")).collect()[0][0]\n",
    "mean_white_rating_diff_draw = df6.filter(col(\"Result\") == \"1/2-1/2\" ).agg(avg(\"WhiteRatingDiff\")).collect()[0][0]\n",
    "mean_black_rating_diff_draw = df6.filter(col(\"Result\") == \"1/2-1/2\" ).agg(avg(\"BlackRatingDiff\")).collect()[0][0]\n",
    "'''"
   ]
  },
  {
   "cell_type": "code",
   "execution_count": null,
   "metadata": {},
   "outputs": [],
   "source": [
    "'''\n",
    "df7 = df6.withColumn(\"WhiteRatingDiff\",\n",
    "    when((col(\"Result\") == \"1-0\") & col(\"WhiteRatingDiff\").isNull(), mean_white_rating_diff_white_win)\n",
    "    .when((col(\"Result\") == \"0-1\") & col(\"WhiteRatingDiff\").isNull(), mean_white_rating_diff_black_win)\n",
    "    .when((col(\"Result\") == \"1/2-1/2\") & col(\"WhiteRatingDiff\").isNull(), mean_white_rating_diff_draw)\n",
    "    .otherwise(col(\"WhiteRatingDiff\"))\n",
    ")\n",
    "df8 = df7.withColumn(\"BlackRatingDiff\",\n",
    "    when((col(\"Result\") == \"1-0\") & col(\"BlackRatingDiff\").isNull(), mean_black_rating_diff_white_win)\n",
    "    .when((col(\"Result\") == \"0-1\") & col(\"BlackRatingDiff\").isNull(), mean_black_rating_diff_black_win)\n",
    "    .when((col(\"Result\") == \"1/2-1/2\") & col(\"BlackRatingDiff\").isNull(), mean_black_rating_diff_draw)\n",
    "    .otherwise(col(\"BlackRatingDiff\"))\n",
    ")\n",
    "'''"
   ]
  },
  {
   "cell_type": "code",
   "execution_count": null,
   "metadata": {},
   "outputs": [],
   "source": [
    "'''\n",
    "df9 = df8.withColumn(\"WhiteRatingDiff\",\n",
    "    when((col(\"Result\") == \"1-0\") & col(\"WhiteRatingDiff\").isNull(), round(col(\"WhiteRatingDiff\"), 1))\n",
    "    .when((col(\"Result\") == \"0-1\") & col(\"WhiteRatingDiff\").isNull(), round(col(\"WhiteRatingDiff\"), 1))\n",
    "    .when((col(\"Result\") == \"1/2-1/2\") & col(\"WhiteRatingDiff\").isNull(), round(col(\"WhiteRatingDiff\"), 1))\n",
    "    .otherwise(col(\"WhiteRatingDiff\"))\n",
    ")\n",
    "df10 = df9.withColumn(\"BlackRatingDiff\",\n",
    "    when((col(\"Result\") == \"1-0\") & col(\"BlackRatingDiff\").isNull(), round(col(\"BlackRatingDiff\"), 1))\n",
    "    .when((col(\"Result\") == \"0-1\") & col(\"BlackRatingDiff\").isNull(), round(col(\"BlackRatingDiff\"), 1))\n",
    "    .when((col(\"Result\") == \"1/2-1/2\") & col(\"BlackRatingDiff\").isNull(), round(col(\"BlackRatingDiff\"), 1))\n",
    "    .otherwise(col(\"BlackRatingDiff\"))\n",
    ")\n",
    "'''"
   ]
  },
  {
   "cell_type": "code",
   "execution_count": 12,
   "metadata": {},
   "outputs": [
    {
     "name": "stdout",
     "output_type": "stream",
     "text": [
      "+-------+-------------+--------------+------+----------+--------+--------+---+--------------------+------------+\n",
      "|  Event|        White|         Black|Result|   UTCDate|WhiteElo|BlackElo|ECO|             Opening| Termination|\n",
      "+-------+-------------+--------------+------+----------+--------+--------+---+--------------------+------------+\n",
      "|  Blitz|       Blique|  rashidbishop|   1-0|2016-06-30|    1920|    1858|A22|English Opening: ...|      Normal|\n",
      "|Classic| Chessapple44|    fourtwenty|   1-0|2016-06-30|    1369|    1443|A04|Zukertort Opening...|      Normal|\n",
      "|Classic|       loco22|      Marco753|   0-1|2016-06-30|    1462|    2147|A04|Zukertort Opening...|      Normal|\n",
      "|  Blitz|        r4m0s|         doguy|   0-1|2016-06-30|    1372|    1068|B20|    Sicilian Defense|Time forfeit|\n",
      "|  Blitz|         em12|       altemio|   0-1|2016-06-30|    2235|    2200|B06|Modern Defense: P...|      Normal|\n",
      "|  Blitz|         zs06|         NOVA3|   0-1|2016-06-30|    1740|    1851|C41| Philidor Defense #3|      Normal|\n",
      "|Classic|    gmonsalve|    quackquack|   0-1|2016-06-30|    1140|    1652|A00|Mieses Opening: R...|      Normal|\n",
      "|  Blitz|      Quentus|    ozgurilter|   0-1|2016-06-30|    1706|    1671|C00|French Defense: K...|      Normal|\n",
      "| Bullet|MINSK_VAMPIRE|        fsanna|   0-1|2016-06-30|    1864|    1882|A41|Rat Defense: Engl...|Time forfeit|\n",
      "|  Blitz|    aladin_00|       chegora|   0-1|2016-06-30|    1749|    1855|C05|French Defense: T...|      Normal|\n",
      "|  Blitz|     Macellan|TheSundanceKid|   0-1|2016-06-30|    1674|    1626|A00|Hungarian Opening...|      Normal|\n",
      "| Bullet|     KarlRoll|      Gamalier|   1-0|2016-06-30|    1719|    1703|A45|         Indian Game|Time forfeit|\n",
      "|  Blitz|       SMario|    unpotumblr|   1-0|2016-06-30|    2445|    2406|C12|French Defense: M...|      Normal|\n",
      "| Bullet|   ALEXERRICO| kylefantastic|   1-0|2016-06-30|    1844|    1822|A00|   Saragossa Opening|      Normal|\n",
      "|  Blitz|     taqa2001|machur_leShach|   0-1|2016-06-30|    1724|    1656|E05|Catalan Opening: ...|Time forfeit|\n",
      "|  Blitz|QualisArtifex|     arash1810|   1-0|2016-06-30|    1848|    1596|A30|English Opening: ...|      Normal|\n",
      "|Classic|        jandy|      Algebra1|   0-1|2016-06-30|    1399|    1322|C60|           Ruy Lopez|      Normal|\n",
      "| Bullet| killerturtle|        moprak|   1-0|2016-06-30|    1552|    1601|A40|Englund Gambit Co...|      Normal|\n",
      "|  Blitz|   watchman47|       burak27|   1-0|2016-06-30|    1537|    1502|C24|Bishop's Opening:...|Time forfeit|\n",
      "|Classic|      kendawy|     apostador|   1-0|2016-06-30|    1529|    1677|C20|King's Pawn Game:...|Time forfeit|\n",
      "+-------+-------------+--------------+------+----------+--------+--------+---+--------------------+------------+\n",
      "only showing top 20 rows\n",
      "\n"
     ]
    }
   ],
   "source": [
    "df6 = df5.withColumn(\"UTCDate\", to_date(\"UTCDate\", \"yyyy.MM.dd\"))\n",
    "df6.show()"
   ]
  },
  {
   "cell_type": "code",
   "execution_count": 21,
   "metadata": {},
   "outputs": [
    {
     "name": "stdout",
     "output_type": "stream",
     "text": [
      "+-------+-------+\n",
      "| Result|  count|\n",
      "+-------+-------+\n",
      "|1/2-1/2|  47812|\n",
      "|    1-0|3198560|\n",
      "|    0-1|2985534|\n",
      "+-------+-------+\n",
      "\n"
     ]
    }
   ],
   "source": [
    "df7 =  df6.filter(col(\"Result\") != '*')\n",
    "\n",
    "df7.groupBy(\"Result\").count().show()"
   ]
  },
  {
   "cell_type": "code",
   "execution_count": null,
   "metadata": {},
   "outputs": [],
   "source": [
    "df8 = df7.withColumn(\"id\", monotonically_increasing_id()())"
   ]
  },
  {
   "cell_type": "code",
   "execution_count": null,
   "metadata": {},
   "outputs": [],
   "source": [
    "'''\n",
    "df11 = df11.withColumn('WhiteRatingDiff', col('WhiteRatingDiff').cast(IntegerType()))\n",
    "df11 = df11.withColumn('BlackRatingDiff', col('BlackRatingDiff').cast(IntegerType()))\n",
    "\n",
    "df11.show()\n",
    "df11.printSchema()\n",
    "'''"
   ]
  },
  {
   "cell_type": "markdown",
   "metadata": {},
   "source": [
    "## Analytics"
   ]
  },
  {
   "cell_type": "markdown",
   "metadata": {},
   "source": [
    "### Win-Loss Ratio: Calculate the win-loss ratio for White and Black players to understand if there is a bias toward one side winning more frequently."
   ]
  },
  {
   "cell_type": "code",
   "execution_count": null,
   "metadata": {},
   "outputs": [],
   "source": [
    "df11.groupBy('Result').count().show()"
   ]
  },
  {
   "cell_type": "markdown",
   "metadata": {},
   "source": [
    "### Popular Openings: Determine the most frequently played openings by examining the ECO codes"
   ]
  },
  {
   "cell_type": "code",
   "execution_count": null,
   "metadata": {},
   "outputs": [],
   "source": [
    "df11.groupBy('ECO').count().show()"
   ]
  },
  {
   "cell_type": "markdown",
   "metadata": {},
   "source": [
    "### Analyze the success rates of these openings to identify which ones are more effective."
   ]
  },
  {
   "cell_type": "code",
   "execution_count": null,
   "metadata": {},
   "outputs": [],
   "source": [
    "df11.groupBy(\"ECO\").pivot(\"Result\", values=[\"1-0\", \"0-1\", \"1/2-1/2\"]).agg(count(\"*\").alias(\"count\")).show()"
   ]
  },
  {
   "cell_type": "markdown",
   "metadata": {},
   "source": [
    "### Are certain openings associated with higher win rates for White or Black?"
   ]
  },
  {
   "cell_type": "code",
   "execution_count": null,
   "metadata": {},
   "outputs": [],
   "source": [
    "df12 = df11.groupBy(\"ECO\", \"Result\").agg((when(col(\"Result\") == \"1-0\", 1).otherwise(0)).alias(\"white_win\"),\n",
    "                                      (when(col(\"Result\") == \"0-1\", 1).otherwise(0)).alias(\"black_win\")) \\\n",
    ".groupBy(\"ECO\").agg((sum(\"white_win\") / (sum(\"white_win\") + sum(\"black_win\"))).alias(\"white_win_rate\"),\n",
    "                        (sum(\"black_win\") / (sum(\"white_win\") + sum(\"black_win\"))).alias(\"black_win_rate\"))"
   ]
  },
  {
   "cell_type": "code",
   "execution_count": null,
   "metadata": {},
   "outputs": [],
   "source": [
    "df12 = df12.withColumn(\"white_win_rate\", format_number(\"white_win_rate\", 2)) \\\n",
    "    .withColumn(\"black_win_rate\", format_number(\"black_win_rate\", 2)).show(n=df12.count(), truncate=False)"
   ]
  },
  {
   "cell_type": "markdown",
   "metadata": {},
   "source": [
    "### Do shorter time controls lead to more decisive results, such as wins or losses?"
   ]
  },
  {
   "cell_type": "markdown",
   "metadata": {},
   "source": [
    "### Do longer games tend to favor stronger players?"
   ]
  },
  {
   "cell_type": "markdown",
   "metadata": {},
   "source": [
    "### Track the popularity of openings over time and see if certain openings go in and out of fashion"
   ]
  },
  {
   "cell_type": "code",
   "execution_count": null,
   "metadata": {},
   "outputs": [],
   "source": []
  },
  {
   "cell_type": "code",
   "execution_count": null,
   "metadata": {},
   "outputs": [],
   "source": [
    "df2.groupBy('Event').count().show()"
   ]
  },
  {
   "cell_type": "code",
   "execution_count": null,
   "metadata": {},
   "outputs": [],
   "source": [
    "df2.groupBy('Result').count().show()"
   ]
  },
  {
   "cell_type": "code",
   "execution_count": null,
   "metadata": {},
   "outputs": [],
   "source": [
    "df2.groupBy('Termination').count().show()"
   ]
  },
  {
   "cell_type": "code",
   "execution_count": null,
   "metadata": {},
   "outputs": [],
   "source": [
    "df1.where(\"Termination = 'Rules infraction'\").show()"
   ]
  },
  {
   "cell_type": "code",
   "execution_count": null,
   "metadata": {},
   "outputs": [],
   "source": [
    "df1.where(\"Termination = 'Abandoned'\").show()"
   ]
  },
  {
   "cell_type": "code",
   "execution_count": null,
   "metadata": {},
   "outputs": [],
   "source": [
    "df2.where(\"Result = '*'\").show()"
   ]
  },
  {
   "cell_type": "code",
   "execution_count": null,
   "metadata": {},
   "outputs": [],
   "source": [
    "df2.where(\"Result = '*'\").groupBy('Termination').count().show()"
   ]
  },
  {
   "cell_type": "code",
   "execution_count": null,
   "metadata": {},
   "outputs": [],
   "source": [
    "df2.show()"
   ]
  },
  {
   "cell_type": "code",
   "execution_count": null,
   "metadata": {},
   "outputs": [],
   "source": [
    "columns_to_check = [c for c in df1.columns if c != 'UTCTime']\n",
    "\n",
    "df2.select([count(when(col(c).isNull(), c)).alias(c) for c in columns_to_check]).show()"
   ]
  },
  {
   "cell_type": "code",
   "execution_count": null,
   "metadata": {},
   "outputs": [],
   "source": [
    "df5.where(\"Result = '*'\").show()"
   ]
  },
  {
   "cell_type": "code",
   "execution_count": null,
   "metadata": {},
   "outputs": [],
   "source": [
    "df8.filter(col(\"WhiteRatingDiff\").isNull()).show()"
   ]
  },
  {
   "cell_type": "code",
   "execution_count": null,
   "metadata": {},
   "outputs": [],
   "source": [
    "df6.filter(col(\"WhiteRatingDiff\").isNull() & col(\"BlackRatingDiff\").isNull() & (col(\"Result\") != '*')).show()"
   ]
  },
  {
   "cell_type": "code",
   "execution_count": null,
   "metadata": {},
   "outputs": [],
   "source": [
    "df5.filter(col(\"WhiteRatingDiff\").isNotNull() & col(\"BlackRatingDiff\").isNotNull() & (col(\"Result\") == '*')).show()"
   ]
  },
  {
   "cell_type": "code",
   "execution_count": null,
   "metadata": {},
   "outputs": [],
   "source": [
    "columns_to_check = [c for c in df11.columns if c != 'UTCTime']\n",
    "\n",
    "df11.select([count(when(col(c).isNull(), c)).alias(c) for c in columns_to_check]).show()"
   ]
  },
  {
   "cell_type": "code",
   "execution_count": null,
   "metadata": {},
   "outputs": [],
   "source": []
  }
 ],
 "metadata": {
  "kernelspec": {
   "display_name": "Python 3 (ipykernel)",
   "language": "python",
   "name": "python3"
  },
  "language_info": {
   "codemirror_mode": {
    "name": "ipython",
    "version": 3
   },
   "file_extension": ".py",
   "mimetype": "text/x-python",
   "name": "python",
   "nbconvert_exporter": "python",
   "pygments_lexer": "ipython3",
   "version": "3.11.5"
  }
 },
 "nbformat": 4,
 "nbformat_minor": 4
}
