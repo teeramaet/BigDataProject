{
 "cells": [
  {
   "cell_type": "markdown",
   "metadata": {},
   "source": [
    "## Import"
   ]
  },
  {
   "cell_type": "code",
   "execution_count": 20,
   "metadata": {},
   "outputs": [],
   "source": [
    "import sys\n",
    "import math\n",
    "from pyspark.sql import SparkSession\n",
    "from pyspark.sql.functions import col, expr, when, udf,isnan, count, sum, avg, format_number, round, to_timestamp"
   ]
  },
  {
   "cell_type": "markdown",
   "metadata": {},
   "source": [
    "## Start Connection"
   ]
  },
  {
   "cell_type": "code",
   "execution_count": 2,
   "metadata": {},
   "outputs": [],
   "source": [
    "spark = SparkSession.builder\\\n",
    ".master(\"local\")\\\n",
    ".appName(\"Word Count\")\\\n",
    ".getOrCreate()\n",
    "#.config(\"spark.some.config.option\", \"some-value\")\\"
   ]
  },
  {
   "cell_type": "markdown",
   "metadata": {},
   "source": [
    "## Basic Info"
   ]
  },
  {
   "cell_type": "code",
   "execution_count": 3,
   "metadata": {},
   "outputs": [],
   "source": [
    "df1 = spark.read.options(header='true', inferSchema='true').csv(\"../data_source/chess_games.csv\")"
   ]
  },
  {
   "cell_type": "code",
   "execution_count": 4,
   "metadata": {},
   "outputs": [
    {
     "name": "stdout",
     "output_type": "stream",
     "text": [
      "+------------------+---------------+----------+------+----------+-------------------+--------+--------+---------------+---------------+---+--------------------+-----------+------------+--------------------+\n",
      "|             Event|          White|     Black|Result|   UTCDate|            UTCTime|WhiteElo|BlackElo|WhiteRatingDiff|BlackRatingDiff|ECO|             Opening|TimeControl| Termination|                  AN|\n",
      "+------------------+---------------+----------+------+----------+-------------------+--------+--------+---------------+---------------+---+--------------------+-----------+------------+--------------------+\n",
      "|        Classical |        eisaaaa|  HAMID449|   1-0|2016.06.30|2023-11-11 22:00:01|    1901|    1896|           11.0|          -11.0|D10|        Slav Defense|      300+5|Time forfeit|1. d4 d5 2. c4 c6...|\n",
      "|            Blitz |         go4jas|Sergei1973|   0-1|2016.06.30|2023-11-11 22:00:01|    1641|    1627|          -11.0|           12.0|C20|King's Pawn Openi...|      300+0|      Normal|1. e4 e5 2. b3 Nf...|\n",
      "| Blitz tournament |Evangelistaizac|    kafune|   1-0|2016.06.30|2023-11-11 22:00:02|    1647|    1688|           13.0|          -13.0|B01|Scandinavian Defe...|      180+0|Time forfeit|1. e4 d5 2. exd5 ...|\n",
      "|   Correspondence |         Jvayne|  Wsjvayne|   1-0|2016.06.30|2023-11-11 22:00:02|    1706|    1317|           27.0|          -25.0|A00|Van't Kruijs Opening|          -|      Normal|1. e3 Nf6 2. Bc4 ...|\n",
      "| Blitz tournament |         kyoday| BrettDale|   0-1|2016.06.30|2023-11-11 22:00:02|    1945|    1900|          -14.0|           13.0|B90|Sicilian Defense:...|      180+0|Time forfeit|1. e4 c5 2. Nf3 d...|\n",
      "+------------------+---------------+----------+------+----------+-------------------+--------+--------+---------------+---------------+---+--------------------+-----------+------------+--------------------+\n",
      "only showing top 5 rows\n",
      "\n",
      "root\n",
      " |-- Event: string (nullable = true)\n",
      " |-- White: string (nullable = true)\n",
      " |-- Black: string (nullable = true)\n",
      " |-- Result: string (nullable = true)\n",
      " |-- UTCDate: string (nullable = true)\n",
      " |-- UTCTime: timestamp (nullable = true)\n",
      " |-- WhiteElo: integer (nullable = true)\n",
      " |-- BlackElo: integer (nullable = true)\n",
      " |-- WhiteRatingDiff: double (nullable = true)\n",
      " |-- BlackRatingDiff: double (nullable = true)\n",
      " |-- ECO: string (nullable = true)\n",
      " |-- Opening: string (nullable = true)\n",
      " |-- TimeControl: string (nullable = true)\n",
      " |-- Termination: string (nullable = true)\n",
      " |-- AN: string (nullable = true)\n",
      "\n"
     ]
    }
   ],
   "source": [
    "df1.show(5)\n",
    "df1.printSchema()"
   ]
  },
  {
   "cell_type": "markdown",
   "metadata": {},
   "source": [
    "### Check for row duplication"
   ]
  },
  {
   "cell_type": "code",
   "execution_count": 5,
   "metadata": {},
   "outputs": [
    {
     "name": "stdout",
     "output_type": "stream",
     "text": [
      "+---------+\n",
      "|dupliacte|\n",
      "+---------+\n",
      "|        2|\n",
      "+---------+\n",
      "\n"
     ]
    }
   ],
   "source": [
    "df1\\\n",
    ".groupBy(df1.columns)\\\n",
    ".count().\\\n",
    "where(col('count') > 1)\\\n",
    ".select(sum('count'))\\\n",
    ".withColumnRenamed(\"sum(count)\", \"dupliacte\")\\\n",
    ".show()"
   ]
  },
  {
   "cell_type": "markdown",
   "metadata": {},
   "source": [
    "### Check for NULL, NAN"
   ]
  },
  {
   "cell_type": "code",
   "execution_count": 6,
   "metadata": {},
   "outputs": [
    {
     "name": "stdout",
     "output_type": "stream",
     "text": [
      "+-----+-----+-----+------+-------+--------+--------+---------------+---------------+---+-------+-----------+-----------+---+\n",
      "|Event|White|Black|Result|UTCDate|WhiteElo|BlackElo|WhiteRatingDiff|BlackRatingDiff|ECO|Opening|TimeControl|Termination| AN|\n",
      "+-----+-----+-----+------+-------+--------+--------+---------------+---------------+---+-------+-----------+-----------+---+\n",
      "|    0|    0|    0|     0|      0|       0|       0|           4668|           4668|  0|      0|          0|          0|  0|\n",
      "+-----+-----+-----+------+-------+--------+--------+---------------+---------------+---+-------+-----------+-----------+---+\n",
      "\n"
     ]
    }
   ],
   "source": [
    "columns_to_check = [c for c in df1.columns if c != 'UTCTime']\n",
    "\n",
    "df1.select([count(when(col(c).isNull(), c)).alias(c) for c in columns_to_check]).show()"
   ]
  },
  {
   "cell_type": "code",
   "execution_count": 7,
   "metadata": {},
   "outputs": [
    {
     "name": "stdout",
     "output_type": "stream",
     "text": [
      "+-----+-----+-----+------+-------+--------+--------+---------------+---------------+---+-------+-----------+-----------+---+\n",
      "|Event|White|Black|Result|UTCDate|WhiteElo|BlackElo|WhiteRatingDiff|BlackRatingDiff|ECO|Opening|TimeControl|Termination| AN|\n",
      "+-----+-----+-----+------+-------+--------+--------+---------------+---------------+---+-------+-----------+-----------+---+\n",
      "|    0|    0|    0|     0|      0|       0|       0|              0|              0|  0|      0|          0|          0|  0|\n",
      "+-----+-----+-----+------+-------+--------+--------+---------------+---------------+---+-------+-----------+-----------+---+\n",
      "\n"
     ]
    }
   ],
   "source": [
    "columns_to_check = [c for c in df1.columns if c != 'UTCTime']\n",
    "\n",
    "df1.select([count(when(isnan(c), c)).alias(c) for c in columns_to_check]).show()"
   ]
  },
  {
   "cell_type": "code",
   "execution_count": 8,
   "metadata": {},
   "outputs": [
    {
     "data": {
      "text/plain": [
       "0"
      ]
     },
     "execution_count": 8,
     "metadata": {},
     "output_type": "execute_result"
    }
   ],
   "source": [
    "df1.filter(col(\"UTCTime\").isNull()).count()"
   ]
  },
  {
   "cell_type": "markdown",
   "metadata": {},
   "source": [
    "## Preprocessing"
   ]
  },
  {
   "cell_type": "markdown",
   "metadata": {},
   "source": [
    "### Drop duplicate rows"
   ]
  },
  {
   "cell_type": "code",
   "execution_count": 9,
   "metadata": {},
   "outputs": [],
   "source": [
    "df2 = df1.dropDuplicates().drop(\"AN\")"
   ]
  },
  {
   "cell_type": "markdown",
   "metadata": {},
   "source": [
    "## Format and filter an Event Column "
   ]
  },
  {
   "cell_type": "code",
   "execution_count": 10,
   "metadata": {},
   "outputs": [],
   "source": [
    "df3 = df2.filter(\n",
    "    (df2[\"Event\"].contains(\"Blitz\")) |\n",
    "    (df2[\"Event\"].contains(\"Classic\")) |\n",
    "    (df2[\"Event\"].contains(\"Bullet\"))\n",
    ")"
   ]
  },
  {
   "cell_type": "code",
   "execution_count": 11,
   "metadata": {},
   "outputs": [],
   "source": [
    "df4 = df3.withColumn(\"Event\", when(df3[\"Event\"].contains(\"Blitz\"), \"Blitz\").when(df3[\"Event\"].contains(\"Classic\"), \"Classic\").when(df3[\"Event\"].contains(\"Bullet\"), \"Bullet\").otherwise(df3[\"Event\"]))"
   ]
  },
  {
   "cell_type": "code",
   "execution_count": 12,
   "metadata": {},
   "outputs": [],
   "source": [
    "df5 = df4.filter(\n",
    "    (df4[\"Result\"] != '*') |\n",
    "    (df4[\"WhiteRatingDiff\"].isNotNull()) |\n",
    "    (df4[\"WhiteRatingDiff\"].isNotNull())\n",
    ")"
   ]
  },
  {
   "cell_type": "code",
   "execution_count": 13,
   "metadata": {},
   "outputs": [],
   "source": [
    "df6 = df5.withColumn(\"Result\", when((col(\"WhiteRatingDiff\") < 0) & (col(\"BlackRatingDiff\") > 0), \"0-1\")\n",
    "    .when((col(\"WhiteRatingDiff\") > 0) & (col(\"BlackRatingDiff\") < 0), \"1-0\")\n",
    "    .when((col(\"WhiteRatingDiff\") == 0) & (col(\"BlackRatingDiff\") == 0), \"1/2-1/2\")\n",
    "    .otherwise(col(\"Result\"))\n",
    ")"
   ]
  },
  {
   "cell_type": "code",
   "execution_count": 14,
   "metadata": {},
   "outputs": [],
   "source": [
    "mean_white_rating_diff_white_win = df6.filter(col(\"Result\") == \"1-0\" ).agg(avg(\"WhiteRatingDiff\")).collect()[0][0]\n",
    "mean_black_rating_diff_white_win = df6.filter(col(\"Result\") == \"1-0\" ).agg(avg(\"BlackRatingDiff\")).collect()[0][0]\n",
    "mean_white_rating_diff_black_win = df6.filter(col(\"Result\") == \"0-1\" ).agg(avg(\"WhiteRatingDiff\")).collect()[0][0]\n",
    "mean_black_rating_diff_black_win = df6.filter(col(\"Result\") == \"0-1\" ).agg(avg(\"BlackRatingDiff\")).collect()[0][0]\n",
    "mean_white_rating_diff_draw = df6.filter(col(\"Result\") == \"1/2-1/2\" ).agg(avg(\"WhiteRatingDiff\")).collect()[0][0]\n",
    "mean_black_rating_diff_draw = df6.filter(col(\"Result\") == \"1/2-1/2\" ).agg(avg(\"BlackRatingDiff\")).collect()[0][0]"
   ]
  },
  {
   "cell_type": "code",
   "execution_count": 26,
   "metadata": {},
   "outputs": [],
   "source": [
    "df7 = df6.withColumn(\"WhiteRatingDiff\",\n",
    "    when((col(\"Result\") == \"1-0\") & col(\"WhiteRatingDiff\").isNull(), mean_white_rating_diff_white_win)\n",
    "    .when((col(\"Result\") == \"0-1\") & col(\"WhiteRatingDiff\").isNull(), mean_white_rating_diff_black_win)\n",
    "    .when((col(\"Result\") == \"1/2-1/2\") & col(\"WhiteRatingDiff\").isNull(), mean_white_rating_diff_draw)\n",
    "    .otherwise(col(\"WhiteRatingDiff\"))\n",
    ")\n",
    "df8 = df7.withColumn(\"BlackRatingDiff\",\n",
    "    when((col(\"Result\") == \"1-0\") & col(\"BlackRatingDiff\").isNull(), mean_black_rating_diff_white_win)\n",
    "    .when((col(\"Result\") == \"0-1\") & col(\"BlackRatingDiff\").isNull(), mean_black_rating_diff_black_win)\n",
    "    .when((col(\"Result\") == \"1/2-1/2\") & col(\"BlackRatingDiff\").isNull(), mean_black_rating_diff_draw)\n",
    "    .otherwise(col(\"BlackRatingDiff\"))\n",
    ")"
   ]
  },
  {
   "cell_type": "code",
   "execution_count": 27,
   "metadata": {},
   "outputs": [],
   "source": [
    "df9 = df8.withColumn(\"WhiteRatingDiff\",\n",
    "    when((col(\"Result\") == \"1-0\") & col(\"WhiteRatingDiff\").isNull(), round(col(\"WhiteRatingDiff\"), 1))\n",
    "    .when((col(\"Result\") == \"0-1\") & col(\"WhiteRatingDiff\").isNull(), round(col(\"WhiteRatingDiff\"), 1))\n",
    "    .when((col(\"Result\") == \"1/2-1/2\") & col(\"WhiteRatingDiff\").isNull(), round(col(\"WhiteRatingDiff\"), 1))\n",
    "    .otherwise(col(\"WhiteRatingDiff\"))\n",
    ")\n",
    "df10 = df9.withColumn(\"BlackRatingDiff\",\n",
    "    when((col(\"Result\") == \"1-0\") & col(\"BlackRatingDiff\").isNull(), round(col(\"BlackRatingDiff\"), 1))\n",
    "    .when((col(\"Result\") == \"0-1\") & col(\"BlackRatingDiff\").isNull(), round(col(\"BlackRatingDiff\"), 1))\n",
    "    .when((col(\"Result\") == \"1/2-1/2\") & col(\"BlackRatingDiff\").isNull(), round(col(\"BlackRatingDiff\"), 1))\n",
    "    .otherwise(col(\"BlackRatingDiff\"))\n",
    ")"
   ]
  },
  {
   "cell_type": "code",
   "execution_count": 28,
   "metadata": {},
   "outputs": [],
   "source": [
    "df11 = df10.withColumn(\"UTCDate\", to_timestamp(\"UTCDate\", \"yyyy.MM.dd\"))"
   ]
  },
  {
   "cell_type": "markdown",
   "metadata": {},
   "source": [
    "## Transform"
   ]
  },
  {
   "cell_type": "markdown",
   "metadata": {},
   "source": [
    "### Win-Loss Ratio: Calculate the win-loss ratio for White and Black players to understand if there is a bias toward one side winning more frequently."
   ]
  },
  {
   "cell_type": "code",
   "execution_count": 30,
   "metadata": {},
   "outputs": [
    {
     "name": "stdout",
     "output_type": "stream",
     "text": [
      "+-------+-------+\n",
      "| Result|  count|\n",
      "+-------+-------+\n",
      "|1/2-1/2|  47812|\n",
      "|    1-0|3198560|\n",
      "|    0-1|2985534|\n",
      "+-------+-------+\n",
      "\n"
     ]
    }
   ],
   "source": [
    "df11.groupBy('Result').count().show()"
   ]
  },
  {
   "cell_type": "markdown",
   "metadata": {},
   "source": [
    "### Popular Openings: Determine the most frequently played openings by examining the ECO codes"
   ]
  },
  {
   "cell_type": "code",
   "execution_count": 31,
   "metadata": {},
   "outputs": [
    {
     "name": "stdout",
     "output_type": "stream",
     "text": [
      "+---+------+\n",
      "|ECO| count|\n",
      "+---+------+\n",
      "|A23|   747|\n",
      "|B05|  1311|\n",
      "|E02|    33|\n",
      "|B34|  8705|\n",
      "|E83|   597|\n",
      "|E44|   168|\n",
      "|A47|  1299|\n",
      "|A76|    56|\n",
      "|B01|285707|\n",
      "|C22| 21522|\n",
      "|A65|  2852|\n",
      "|E56|    47|\n",
      "|A46| 33884|\n",
      "|C78|  4449|\n",
      "|B92|  2502|\n",
      "|C24| 30051|\n",
      "|C95|   282|\n",
      "|C77|  5769|\n",
      "|D16|   791|\n",
      "|C98|    52|\n",
      "+---+------+\n",
      "only showing top 20 rows\n",
      "\n"
     ]
    }
   ],
   "source": [
    "df11.groupBy('ECO').count().show()"
   ]
  },
  {
   "cell_type": "markdown",
   "metadata": {},
   "source": [
    "### Analyze the success rates of these openings to identify which ones are more effective."
   ]
  },
  {
   "cell_type": "code",
   "execution_count": 33,
   "metadata": {},
   "outputs": [
    {
     "name": "stdout",
     "output_type": "stream",
     "text": [
      "+---+------+------+-------+\n",
      "|ECO|   1-0|   0-1|1/2-1/2|\n",
      "+---+------+------+-------+\n",
      "|A23|   387|   352|      8|\n",
      "|B05|   622|   678|     11|\n",
      "|E02|    16|    16|      1|\n",
      "|B79|    12|    15|   NULL|\n",
      "|A47|   643|   642|     14|\n",
      "|E83|   297|   292|      8|\n",
      "|B34|  4092|  4541|     72|\n",
      "|E44|    98|    65|      5|\n",
      "|A76|    35|    21|   NULL|\n",
      "|D81|    57|    57|   NULL|\n",
      "|B01|147777|135847|   2083|\n",
      "|C22|  8833| 12553|    136|\n",
      "|A65|  1446|  1388|     18|\n",
      "|E56|    32|    15|   NULL|\n",
      "|D28|     6|     9|   NULL|\n",
      "|B92|  1177|  1307|     18|\n",
      "|A46| 16954| 16625|    305|\n",
      "|C78|  2559|  1865|     25|\n",
      "|C24| 15630| 14199|    222|\n",
      "|C95|   134|   146|      2|\n",
      "+---+------+------+-------+\n",
      "only showing top 20 rows\n",
      "\n"
     ]
    }
   ],
   "source": [
    "df11.groupBy(\"ECO\").pivot(\"Result\", values=[\"1-0\", \"0-1\", \"1/2-1/2\"]).agg(count(\"*\").alias(\"count\")).show()"
   ]
  },
  {
   "cell_type": "markdown",
   "metadata": {},
   "source": [
    "### Are certain openings associated with higher win rates for White or Black?"
   ]
  },
  {
   "cell_type": "code",
   "execution_count": 38,
   "metadata": {},
   "outputs": [
    {
     "name": "stdout",
     "output_type": "stream",
     "text": [
      "+--------------------+--------------+--------------+\n",
      "|             Opening|white_win_rate|black_win_rate|\n",
      "+--------------------+--------------+--------------+\n",
      "|Slav Defense: Cze...|           0.5|           0.5|\n",
      "|Owen Defense: Mat...|           0.5|           0.5|\n",
      "|Caro-Kann Defense...|           0.5|           0.5|\n",
      "|Queen's Gambit De...|           0.5|           0.5|\n",
      "|Queen's Gambit Ac...|           0.5|           0.5|\n",
      "|Alekhine Defense:...|           0.5|           0.5|\n",
      "|Ruy Lopez: Classi...|           0.5|           0.5|\n",
      "|Blackmar-Diemer G...|           0.5|           0.5|\n",
      "|King's Indian Att...|           0.5|           0.5|\n",
      "|King's Gambit, Fa...|           0.5|           0.5|\n",
      "|Tarrasch Defense:...|           0.5|           0.5|\n",
      "|Caro-Kann Defense...|           0.5|           0.5|\n",
      "|Four Knights Game...|           0.5|           0.5|\n",
      "|Ruy Lopez: Berlin...|           0.5|           0.5|\n",
      "|Italian Game: Two...|           0.5|           0.5|\n",
      "|King's Indian Def...|           0.5|           0.5|\n",
      "|Ruy Lopez: Closed...|           1.0|           0.0|\n",
      "|King's Indian Def...|           0.5|           0.5|\n",
      "|French Defense: S...|           0.5|           0.5|\n",
      "|Owen Defense: Smi...|           0.5|           0.5|\n",
      "+--------------------+--------------+--------------+\n",
      "only showing top 20 rows\n",
      "\n"
     ]
    }
   ],
   "source": [
    "df11.groupBy(\"Opening\", \"Result\").agg((when(col(\"Result\") == \"1-0\", 1).otherwise(0)).alias(\"white_win\"),\n",
    "                                      (when(col(\"Result\") == \"0-1\", 1).otherwise(0)).alias(\"black_win\")) \\\n",
    ".groupBy(\"Opening\").agg((sum(\"white_win\") / (sum(\"white_win\") + sum(\"black_win\"))).alias(\"white_win_rate\"),\n",
    "                        (sum(\"black_win\") / (sum(\"white_win\") + sum(\"black_win\"))).alias(\"black_win_rate\")).show()"
   ]
  },
  {
   "cell_type": "markdown",
   "metadata": {},
   "source": [
    "### Do shorter time controls lead to more decisive results, such as wins or losses?"
   ]
  },
  {
   "cell_type": "code",
   "execution_count": null,
   "metadata": {},
   "outputs": [],
   "source": [
    "df2.groupBy('Event').count().show()"
   ]
  },
  {
   "cell_type": "code",
   "execution_count": null,
   "metadata": {},
   "outputs": [],
   "source": [
    "df2.groupBy('Result').count().show()"
   ]
  },
  {
   "cell_type": "code",
   "execution_count": null,
   "metadata": {},
   "outputs": [],
   "source": [
    "df2.groupBy('Termination').count().show()"
   ]
  },
  {
   "cell_type": "code",
   "execution_count": null,
   "metadata": {},
   "outputs": [],
   "source": [
    "df1.where(\"Termination = 'Rules infraction'\").show()"
   ]
  },
  {
   "cell_type": "code",
   "execution_count": null,
   "metadata": {},
   "outputs": [],
   "source": [
    "df1.where(\"Termination = 'Abandoned'\").show()"
   ]
  },
  {
   "cell_type": "code",
   "execution_count": null,
   "metadata": {},
   "outputs": [],
   "source": [
    "df2.where(\"Result = '*'\").show()"
   ]
  },
  {
   "cell_type": "code",
   "execution_count": null,
   "metadata": {},
   "outputs": [],
   "source": [
    "df2.where(\"Result = '*'\").groupBy('Termination').count().show()"
   ]
  },
  {
   "cell_type": "code",
   "execution_count": null,
   "metadata": {},
   "outputs": [],
   "source": [
    "df2.show()"
   ]
  },
  {
   "cell_type": "code",
   "execution_count": null,
   "metadata": {},
   "outputs": [],
   "source": [
    "columns_to_check = [c for c in df1.columns if c != 'UTCTime']\n",
    "\n",
    "df2.select([count(when(col(c).isNull(), c)).alias(c) for c in columns_to_check]).show()"
   ]
  },
  {
   "cell_type": "code",
   "execution_count": null,
   "metadata": {},
   "outputs": [],
   "source": [
    "df5.where(\"Result = '*'\").show()"
   ]
  },
  {
   "cell_type": "code",
   "execution_count": 25,
   "metadata": {},
   "outputs": [
    {
     "name": "stdout",
     "output_type": "stream",
     "text": [
      "+-------+-------------------+-----------------+------+----------+-------------------+--------+--------+---------------+-------------------+---+--------------------+-----------+------------+\n",
      "|  Event|              White|            Black|Result|   UTCDate|            UTCTime|WhiteElo|BlackElo|WhiteRatingDiff|    BlackRatingDiff|ECO|             Opening|TimeControl| Termination|\n",
      "+-------+-------------------+-----------------+------+----------+-------------------+--------+--------+---------------+-------------------+---+--------------------+-----------+------------+\n",
      "|Classic|           IGGY_KHV|       maratmurka|   1-0|2016.07.01|2023-11-11 13:27:25|    1968|    2057|           NULL|-11.758047954791898|A27|English Opening: ...|      600+0|Time forfeit|\n",
      "|  Blitz|         adelrafaat|      RONINPERITO|   0-1|2016.07.01|2023-11-11 13:23:36|    2052|    1500|           NULL| 11.827098585395014|A03|Bird Opening: Dut...|      300+0|      Normal|\n",
      "|Classic|           sogooxon|          Ammreda|   0-1|2016.07.01|2023-11-11 11:10:16|    2054|    2245|           NULL| 11.827098585395014|C68|Ruy Lopez: Exchan...|      600+0|      Normal|\n",
      "|  Blitz|     The_Knightmare|       IvanGergov|   1-0|2016.07.01|2023-11-11 13:42:59|    1500|     923|           NULL|-11.758047954791898|C34|King's Gambit Acc...|        0+8|      Normal|\n",
      "|Classic|         jktungsten|    Deconstructor|   0-1|2016.07.01|2023-11-11 16:06:27|    1946|     923|           NULL| 11.827098585395014|C50|Four Knights Game...|      900+0|      Normal|\n",
      "|Classic|        RONINPERITO|          almah09|   1-0|2016.07.01|2023-11-11 21:21:21|    2091|    2081|           NULL|-11.758047954791898|C67|Ruy Lopez: Berlin...|      900+8|      Normal|\n",
      "|Classic| IvanIsPlayingChess|     ChessCurry30|   0-1|2016.06.30|2023-11-11 22:26:54|    1640|    2443|           NULL| 11.827098585395014|B10|   Caro-Kann Defense|     900+10|      Normal|\n",
      "|Classic|   Schach-Opa65plus|       chesser890|   1-0|2016.07.01|2023-11-11 17:57:04|    2367|    2131|           NULL|-11.758047954791898|D13|Slav Defense: Exc...|      600+2|Time forfeit|\n",
      "|Classic|         ARGESKENTs|         vladruss|   0-1|2016.07.01|2023-11-11 01:00:58|    2014|    2230|           NULL| 11.827098585395014|B30|Sicilian Defense:...|      480+0|      Normal|\n",
      "|Classic|             spura2|F4ZiiMAGNiiFiiQUE|   0-1|2016.07.01|2023-11-11 18:05:13|    1891|    1676|           NULL| 11.827098585395014|B20|Sicilian Defense:...|  10800+180|      Normal|\n",
      "|Classic|             spura2|         Soleiman|   1-0|2016.07.01|2023-11-11 18:22:46|    1891|    2339|           NULL|-11.758047954791898|B00| Nimzowitsch Defense|  10800+180|      Normal|\n",
      "|Classic|           christio|    Deconstructor|   1-0|2016.07.01|2023-11-11 15:38:35|    1136|     923|           NULL|-11.758047954791898|D20|Queen's Gambit Ac...|      900+0|      Normal|\n",
      "|Classic|             spura2|           gavarg|   1-0|2016.07.01|2023-11-11 17:57:43|    1891|    2094|           NULL|-11.758047954791898|A00|Van't Kruijs Opening|  10800+180|      Normal|\n",
      "|  Blitz|        qqqIrmantas|    Domloquendero|   0-1|2016.07.01|2023-11-11 07:45:06|    1415|    1387|           NULL| 11.827098585395014|C23|    Bishop's Opening|      180+0|      Normal|\n",
      "|Classic|        aidinpoomse|           wikiii|   1-0|2016.07.01|2023-11-11 18:39:35|    1442|    1574|           NULL|-11.758047954791898|A00|Van't Kruijs Opening|     7200+0|      Normal|\n",
      "|Classic|            Cagakan|abderrahim----cr7|   0-1|2016.07.01|2023-11-11 17:23:48|    2193|    2056|           NULL| 11.827098585395014|B01|Scandinavian Defe...|      600+2|      Normal|\n",
      "|Classic|         IslandTman|            Zhang|   0-1|2016.07.01|2023-11-11 16:37:54|    1874|    1864|           NULL| 11.827098585395014|C21|Danish Gambit Dec...|      300+8|      Normal|\n",
      "|Classic|          cgrongnet|       chesser890|   1-0|2016.07.01|2023-11-11 21:07:22|    1877|    2131|           NULL|-11.758047954791898|B62|Sicilian Defense:...|      900+0|      Normal|\n",
      "|  Blitz|              kotok|           abbasf|   1-0|2016.07.01|2023-11-11 08:37:01|    1946|    2095|           NULL|-11.758047954791898|A40|  English Defense #2|      300+0|      Normal|\n",
      "|Classic|ARGESKENT_ARGESKENT|       ARGESKENTs|   0-1|2016.07.01|2023-11-11 01:42:24|    2229|    2014|           NULL| 11.827098585395014|A00|      Mieses Opening|  10800+180|      Normal|\n",
      "+-------+-------------------+-----------------+------+----------+-------------------+--------+--------+---------------+-------------------+---+--------------------+-----------+------------+\n",
      "only showing top 20 rows\n",
      "\n"
     ]
    }
   ],
   "source": [
    "df8.filter(col(\"WhiteRatingDiff\").isNull()).show()"
   ]
  },
  {
   "cell_type": "code",
   "execution_count": null,
   "metadata": {},
   "outputs": [],
   "source": [
    "df6.filter(col(\"WhiteRatingDiff\").isNull() & col(\"BlackRatingDiff\").isNull() & (col(\"Result\") != '*')).show()"
   ]
  },
  {
   "cell_type": "code",
   "execution_count": null,
   "metadata": {},
   "outputs": [],
   "source": [
    "df5.filter(col(\"WhiteRatingDiff\").isNotNull() & col(\"BlackRatingDiff\").isNotNull() & (col(\"Result\") == '*')).show()"
   ]
  },
  {
   "cell_type": "code",
   "execution_count": 29,
   "metadata": {},
   "outputs": [
    {
     "name": "stdout",
     "output_type": "stream",
     "text": [
      "+-----+-----+-----+------+-------+--------+--------+---------------+---------------+---+-------+-----------+-----------+\n",
      "|Event|White|Black|Result|UTCDate|WhiteElo|BlackElo|WhiteRatingDiff|BlackRatingDiff|ECO|Opening|TimeControl|Termination|\n",
      "+-----+-----+-----+------+-------+--------+--------+---------------+---------------+---+-------+-----------+-----------+\n",
      "|    0|    0|    0|     0|      0|       0|       0|              0|              0|  0|      0|          0|          0|\n",
      "+-----+-----+-----+------+-------+--------+--------+---------------+---------------+---+-------+-----------+-----------+\n",
      "\n"
     ]
    }
   ],
   "source": [
    "columns_to_check = [c for c in df11.columns if c != 'UTCTime']\n",
    "\n",
    "df11.select([count(when(col(c).isNull(), c)).alias(c) for c in columns_to_check]).show()"
   ]
  },
  {
   "cell_type": "code",
   "execution_count": null,
   "metadata": {},
   "outputs": [],
   "source": []
  }
 ],
 "metadata": {
  "kernelspec": {
   "display_name": "Python 3 (ipykernel)",
   "language": "python",
   "name": "python3"
  },
  "language_info": {
   "codemirror_mode": {
    "name": "ipython",
    "version": 3
   },
   "file_extension": ".py",
   "mimetype": "text/x-python",
   "name": "python",
   "nbconvert_exporter": "python",
   "pygments_lexer": "ipython3",
   "version": "3.11.5"
  }
 },
 "nbformat": 4,
 "nbformat_minor": 4
}
