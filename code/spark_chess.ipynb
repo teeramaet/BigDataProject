{
 "cells": [
  {
   "cell_type": "markdown",
   "metadata": {},
   "source": [
    "## Import"
   ]
  },
  {
   "cell_type": "code",
   "execution_count": 1,
   "metadata": {},
   "outputs": [],
   "source": [
    "import sys\n",
    "import math\n",
    "from pyspark.sql import SparkSession\n",
    "from pyspark.sql.types import IntegerType\n",
    "from pyspark.sql.functions import col, when, udf,isnan, count, sum, avg, format_number, round, to_timestamp, to_date, concat, lit"
   ]
  },
  {
   "cell_type": "markdown",
   "metadata": {},
   "source": [
    "## Start Connection"
   ]
  },
  {
   "cell_type": "code",
   "execution_count": 2,
   "metadata": {},
   "outputs": [],
   "source": [
    "spark = SparkSession.builder\\\n",
    ".master(\"local\")\\\n",
    ".appName(\"Word Count\")\\\n",
    ".getOrCreate()\n",
    "#.config(\"spark.some.config.option\", \"some-value\")\\"
   ]
  },
  {
   "cell_type": "markdown",
   "metadata": {},
   "source": [
    "## Basic Info"
   ]
  },
  {
   "cell_type": "code",
   "execution_count": 47,
   "metadata": {},
   "outputs": [],
   "source": [
    "df1 = spark.read.options(header='true', inferSchema='true').csv(\"../data_source/chess_games.csv\")"
   ]
  },
  {
   "cell_type": "code",
   "execution_count": 53,
   "metadata": {},
   "outputs": [
    {
     "name": "stdout",
     "output_type": "stream",
     "text": [
      "+------------------+---------------+---------------+------+----------+-------------------+--------+--------+---------------+---------------+---+--------------------+-----------+------------+--------------------+------------------+\n",
      "|             Event|          White|          Black|Result|   UTCDate|            UTCTime|WhiteElo|BlackElo|WhiteRatingDiff|BlackRatingDiff|ECO|             Opening|TimeControl| Termination|                  AN|combined_timestamp|\n",
      "+------------------+---------------+---------------+------+----------+-------------------+--------+--------+---------------+---------------+---+--------------------+-----------+------------+--------------------+------------------+\n",
      "|        Classical |        eisaaaa|       HAMID449|   1-0|2016.06.30|2023-11-13 22:00:01|    1901|    1896|           11.0|          -11.0|D10|        Slav Defense|      300+5|Time forfeit|1. d4 d5 2. c4 c6...|              NULL|\n",
      "|            Blitz |         go4jas|     Sergei1973|   0-1|2016.06.30|2023-11-13 22:00:01|    1641|    1627|          -11.0|           12.0|C20|King's Pawn Openi...|      300+0|      Normal|1. e4 e5 2. b3 Nf...|              NULL|\n",
      "| Blitz tournament |Evangelistaizac|         kafune|   1-0|2016.06.30|2023-11-13 22:00:02|    1647|    1688|           13.0|          -13.0|B01|Scandinavian Defe...|      180+0|Time forfeit|1. e4 d5 2. exd5 ...|              NULL|\n",
      "|   Correspondence |         Jvayne|       Wsjvayne|   1-0|2016.06.30|2023-11-13 22:00:02|    1706|    1317|           27.0|          -25.0|A00|Van't Kruijs Opening|          -|      Normal|1. e3 Nf6 2. Bc4 ...|              NULL|\n",
      "| Blitz tournament |         kyoday|      BrettDale|   0-1|2016.06.30|2023-11-13 22:00:02|    1945|    1900|          -14.0|           13.0|B90|Sicilian Defense:...|      180+0|Time forfeit|1. e4 c5 2. Nf3 d...|              NULL|\n",
      "| Blitz tournament | lucaseixasouza|         diguim|   0-1|2016.06.30|2023-11-13 22:00:02|    1773|    1809|          -10.0|           10.0|C27|         Vienna Game|      180+0|      Normal|1. e4 e5 2. Nc3 d...|              NULL|\n",
      "| Blitz tournament |       RENZZO77|HeadlessChicken|   0-1|2016.06.30|2023-11-13 22:00:02|    1895|    1886|          -12.0|           12.0|B10|Caro-Kann Defense...|      180+0|Time forfeit|1. e4 c6 2. Nf3 d...|              NULL|\n",
      "| Blitz tournament |          ipero|      Bayern123|   1-0|2016.06.30|2023-11-13 22:00:02|    2155|    2356|           20.0|          -20.0|D02|Queen's Pawn Game...|      180+0|      Normal|1. d4 d5 2. Nf3 N...|              NULL|\n",
      "| Blitz tournament |Loginov19510410|        Kereshu|   0-1|2016.06.30|2023-11-13 22:00:02|    2010|    2111|           -9.0|            9.0|A45|         Indian Game|      300+0|      Normal|1. d4 Nf6 2. Bf4 ...|              NULL|\n",
      "| Blitz tournament |     Shambobala|     cernunnoss|   1-0|2016.06.30|2023-11-13 22:00:02|    1764|    1773|           12.0|          -12.0|B01|Scandinavian Defe...|      180+0|Time forfeit|1. e4 d5 2. exd5 ...|              NULL|\n",
      "|        Classical |        DARDELU|   chess4life54|   0-1|2016.06.30|2023-11-13 22:00:01|    1649|    1638|          -13.0|           11.0|C57|Italian Game: Two...|      900+3|      Normal|1. e4 e5 2. Nf3 N...|              NULL|\n",
      "|        Classical |        fabikim|         sereno|   1-0|2016.06.30|2023-11-13 22:00:02|    1630|    1500|            7.0|           -7.0|C41| Philidor Defense #3|      420+5|      Normal|1. e4 e5 2. Nf3 d...|              NULL|\n",
      "| Blitz tournament |      IZDenisZI|         BoBo93|   1-0|2016.06.30|2023-11-13 22:00:02|    1833|    1837|           11.0|          -12.0|C36|King's Gambit Acc...|      300+0|      Normal|1. e4 e5 2. f4 ex...|              NULL|\n",
      "| Blitz tournament |     lasha-fero| ildivinojohnny|   1-0|2016.06.30|2023-11-13 22:00:02|    2020|    1979|           10.0|          -11.0|A00|      Polish Opening|      180+0|Time forfeit|1. b4 e6 2. Bb2 d...|              NULL|\n",
      "| Blitz tournament |       arkadyNa|     sofianet06|   0-1|2016.06.30|2023-11-13 22:00:02|    1581|    1616|          -12.0|           11.0|B01|Scandinavian Defe...|      180+0|Time forfeit|1. e4 d5 2. exd5 ...|              NULL|\n",
      "| Blitz tournament |    mayconchess|        trend19|   0-1|2016.06.30|2023-11-13 22:00:02|    1879|    1868|          -13.0|           12.0|B01|Scandinavian Defe...|      180+0|      Normal|1. e4 d5 2. exd5 ...|              NULL|\n",
      "| Blitz tournament |         lj1983|        plmnnnn|   1-0|2016.06.30|2023-11-13 22:00:02|    1963|    1979|           12.0|          -13.0|B10|Caro-Kann Defense...|      180+0|      Normal|1. e4 c6 2. Nf3 d...|              NULL|\n",
      "| Blitz tournament |         Inorem|       leymoral|   1-0|2016.06.30|2023-11-13 22:00:02|    1751|    1712|           10.0|          -10.0|C62|Ruy Lopez: Steini...|      180+0|      Normal|1. e4 e5 2. Nf3 N...|              NULL|\n",
      "| Blitz tournament |     Torres2300| Trabelsi-Wajdi|   0-1|2016.06.30|2023-11-13 22:00:02|    1795|    1800|          -14.0|           11.0|B32|Sicilian Defense:...|      300+0|      Normal|1. e4 c5 2. Nf3 e...|              NULL|\n",
      "| Blitz tournament |         Igor76|          dancg|   1-0|2016.06.30|2023-11-13 22:00:02|    1913|    1925|           11.0|          -13.0|B12|Caro-Kann Defense...|      300+0|      Normal|1. e4 c6 2. d4 d5...|              NULL|\n",
      "+------------------+---------------+---------------+------+----------+-------------------+--------+--------+---------------+---------------+---+--------------------+-----------+------------+--------------------+------------------+\n",
      "only showing top 20 rows\n",
      "\n",
      "root\n",
      " |-- Event: string (nullable = true)\n",
      " |-- White: string (nullable = true)\n",
      " |-- Black: string (nullable = true)\n",
      " |-- Result: string (nullable = true)\n",
      " |-- UTCDate: string (nullable = true)\n",
      " |-- UTCTime: timestamp (nullable = true)\n",
      " |-- WhiteElo: integer (nullable = true)\n",
      " |-- BlackElo: integer (nullable = true)\n",
      " |-- WhiteRatingDiff: double (nullable = true)\n",
      " |-- BlackRatingDiff: double (nullable = true)\n",
      " |-- ECO: string (nullable = true)\n",
      " |-- Opening: string (nullable = true)\n",
      " |-- TimeControl: string (nullable = true)\n",
      " |-- Termination: string (nullable = true)\n",
      " |-- AN: string (nullable = true)\n",
      " |-- combined_timestamp: timestamp (nullable = true)\n",
      "\n"
     ]
    }
   ],
   "source": [
    "df1.show()\n",
    "df1.printSchema()"
   ]
  },
  {
   "cell_type": "code",
   "execution_count": 52,
   "metadata": {},
   "outputs": [],
   "source": []
  },
  {
   "cell_type": "code",
   "execution_count": null,
   "metadata": {},
   "outputs": [],
   "source": []
  },
  {
   "cell_type": "markdown",
   "metadata": {},
   "source": [
    "### Check for row duplication"
   ]
  },
  {
   "cell_type": "code",
   "execution_count": 5,
   "metadata": {},
   "outputs": [
    {
     "name": "stdout",
     "output_type": "stream",
     "text": [
      "+---------+\n",
      "|dupliacte|\n",
      "+---------+\n",
      "|        2|\n",
      "+---------+\n",
      "\n"
     ]
    }
   ],
   "source": [
    "df1\\\n",
    ".groupBy(df1.columns)\\\n",
    ".count().\\\n",
    "where(col('count') > 1)\\\n",
    ".select(sum('count'))\\\n",
    ".withColumnRenamed(\"sum(count)\", \"dupliacte\")\\\n",
    ".show()"
   ]
  },
  {
   "cell_type": "markdown",
   "metadata": {},
   "source": [
    "### Check for NULL, NAN"
   ]
  },
  {
   "cell_type": "code",
   "execution_count": 6,
   "metadata": {},
   "outputs": [
    {
     "name": "stdout",
     "output_type": "stream",
     "text": [
      "+-----+-----+-----+------+-------+--------+--------+---------------+---------------+---+-------+-----------+-----------+---+\n",
      "|Event|White|Black|Result|UTCDate|WhiteElo|BlackElo|WhiteRatingDiff|BlackRatingDiff|ECO|Opening|TimeControl|Termination| AN|\n",
      "+-----+-----+-----+------+-------+--------+--------+---------------+---------------+---+-------+-----------+-----------+---+\n",
      "|    0|    0|    0|     0|      0|       0|       0|           4668|           4668|  0|      0|          0|          0|  0|\n",
      "+-----+-----+-----+------+-------+--------+--------+---------------+---------------+---+-------+-----------+-----------+---+\n",
      "\n"
     ]
    }
   ],
   "source": [
    "columns_to_check = [c for c in df1.columns if c != 'UTCTime']\n",
    "\n",
    "df1.select([count(when(col(c).isNull(), c)).alias(c) for c in columns_to_check]).show()"
   ]
  },
  {
   "cell_type": "code",
   "execution_count": 7,
   "metadata": {},
   "outputs": [
    {
     "name": "stdout",
     "output_type": "stream",
     "text": [
      "+-----+-----+-----+------+-------+--------+--------+---------------+---------------+---+-------+-----------+-----------+---+\n",
      "|Event|White|Black|Result|UTCDate|WhiteElo|BlackElo|WhiteRatingDiff|BlackRatingDiff|ECO|Opening|TimeControl|Termination| AN|\n",
      "+-----+-----+-----+------+-------+--------+--------+---------------+---------------+---+-------+-----------+-----------+---+\n",
      "|    0|    0|    0|     0|      0|       0|       0|              0|              0|  0|      0|          0|          0|  0|\n",
      "+-----+-----+-----+------+-------+--------+--------+---------------+---------------+---+-------+-----------+-----------+---+\n",
      "\n"
     ]
    }
   ],
   "source": [
    "columns_to_check = [c for c in df1.columns if c != 'UTCTime']\n",
    "\n",
    "df1.select([count(when(isnan(c), c)).alias(c) for c in columns_to_check]).show()"
   ]
  },
  {
   "cell_type": "code",
   "execution_count": 8,
   "metadata": {},
   "outputs": [
    {
     "data": {
      "text/plain": [
       "0"
      ]
     },
     "execution_count": 8,
     "metadata": {},
     "output_type": "execute_result"
    }
   ],
   "source": [
    "df1.filter(col(\"UTCTime\").isNull()).count()"
   ]
  },
  {
   "cell_type": "markdown",
   "metadata": {},
   "source": [
    "## Preprocessing"
   ]
  },
  {
   "cell_type": "markdown",
   "metadata": {},
   "source": [
    "### Drop duplicate rows"
   ]
  },
  {
   "cell_type": "code",
   "execution_count": 9,
   "metadata": {},
   "outputs": [],
   "source": [
    "df2 = df1.dropDuplicates().drop(\"AN\")"
   ]
  },
  {
   "cell_type": "markdown",
   "metadata": {},
   "source": [
    "## Format and filter an Event Column "
   ]
  },
  {
   "cell_type": "code",
   "execution_count": 10,
   "metadata": {},
   "outputs": [],
   "source": [
    "df3 = df2.filter(\n",
    "    (df2[\"Event\"].contains(\"Blitz\")) |\n",
    "    (df2[\"Event\"].contains(\"Classic\")) |\n",
    "    (df2[\"Event\"].contains(\"Bullet\"))\n",
    ")"
   ]
  },
  {
   "cell_type": "code",
   "execution_count": 11,
   "metadata": {},
   "outputs": [],
   "source": [
    "df4 = df3.withColumn(\"Event\", when(df3[\"Event\"].contains(\"Blitz\"), \"Blitz\").when(df3[\"Event\"].contains(\"Classic\"), \"Classic\").when(df3[\"Event\"].contains(\"Bullet\"), \"Bullet\").otherwise(df3[\"Event\"]))"
   ]
  },
  {
   "cell_type": "code",
   "execution_count": 12,
   "metadata": {},
   "outputs": [],
   "source": [
    "df5 = df4.filter(\n",
    "    (df4[\"Result\"] != '*') |\n",
    "    (df4[\"WhiteRatingDiff\"].isNotNull()) |\n",
    "    (df4[\"BlackRatingDiff\"].isNotNull())\n",
    ")"
   ]
  },
  {
   "cell_type": "code",
   "execution_count": 13,
   "metadata": {},
   "outputs": [],
   "source": [
    "df6 = df5.withColumn(\"Result\", when((col(\"WhiteRatingDiff\") < 0) & (col(\"BlackRatingDiff\") > 0), \"0-1\")\n",
    "    .when((col(\"WhiteRatingDiff\") > 0) & (col(\"BlackRatingDiff\") < 0), \"1-0\")\n",
    "    .when((col(\"WhiteRatingDiff\") == 0) & (col(\"BlackRatingDiff\") == 0), \"1/2-1/2\")\n",
    "    .otherwise(col(\"Result\"))\n",
    ")"
   ]
  },
  {
   "cell_type": "code",
   "execution_count": 14,
   "metadata": {},
   "outputs": [],
   "source": [
    "mean_white_rating_diff_white_win = df6.filter(col(\"Result\") == \"1-0\" ).agg(avg(\"WhiteRatingDiff\")).collect()[0][0]\n",
    "mean_black_rating_diff_white_win = df6.filter(col(\"Result\") == \"1-0\" ).agg(avg(\"BlackRatingDiff\")).collect()[0][0]\n",
    "mean_white_rating_diff_black_win = df6.filter(col(\"Result\") == \"0-1\" ).agg(avg(\"WhiteRatingDiff\")).collect()[0][0]\n",
    "mean_black_rating_diff_black_win = df6.filter(col(\"Result\") == \"0-1\" ).agg(avg(\"BlackRatingDiff\")).collect()[0][0]\n",
    "mean_white_rating_diff_draw = df6.filter(col(\"Result\") == \"1/2-1/2\" ).agg(avg(\"WhiteRatingDiff\")).collect()[0][0]\n",
    "mean_black_rating_diff_draw = df6.filter(col(\"Result\") == \"1/2-1/2\" ).agg(avg(\"BlackRatingDiff\")).collect()[0][0]"
   ]
  },
  {
   "cell_type": "code",
   "execution_count": 15,
   "metadata": {},
   "outputs": [],
   "source": [
    "df7 = df6.withColumn(\"WhiteRatingDiff\",\n",
    "    when((col(\"Result\") == \"1-0\") & col(\"WhiteRatingDiff\").isNull(), mean_white_rating_diff_white_win)\n",
    "    .when((col(\"Result\") == \"0-1\") & col(\"WhiteRatingDiff\").isNull(), mean_white_rating_diff_black_win)\n",
    "    .when((col(\"Result\") == \"1/2-1/2\") & col(\"WhiteRatingDiff\").isNull(), mean_white_rating_diff_draw)\n",
    "    .otherwise(col(\"WhiteRatingDiff\"))\n",
    ")\n",
    "df8 = df7.withColumn(\"BlackRatingDiff\",\n",
    "    when((col(\"Result\") == \"1-0\") & col(\"BlackRatingDiff\").isNull(), mean_black_rating_diff_white_win)\n",
    "    .when((col(\"Result\") == \"0-1\") & col(\"BlackRatingDiff\").isNull(), mean_black_rating_diff_black_win)\n",
    "    .when((col(\"Result\") == \"1/2-1/2\") & col(\"BlackRatingDiff\").isNull(), mean_black_rating_diff_draw)\n",
    "    .otherwise(col(\"BlackRatingDiff\"))\n",
    ")"
   ]
  },
  {
   "cell_type": "code",
   "execution_count": 16,
   "metadata": {},
   "outputs": [],
   "source": [
    "df9 = df8.withColumn(\"WhiteRatingDiff\",\n",
    "    when((col(\"Result\") == \"1-0\") & col(\"WhiteRatingDiff\").isNull(), round(col(\"WhiteRatingDiff\"), 1))\n",
    "    .when((col(\"Result\") == \"0-1\") & col(\"WhiteRatingDiff\").isNull(), round(col(\"WhiteRatingDiff\"), 1))\n",
    "    .when((col(\"Result\") == \"1/2-1/2\") & col(\"WhiteRatingDiff\").isNull(), round(col(\"WhiteRatingDiff\"), 1))\n",
    "    .otherwise(col(\"WhiteRatingDiff\"))\n",
    ")\n",
    "df10 = df9.withColumn(\"BlackRatingDiff\",\n",
    "    when((col(\"Result\") == \"1-0\") & col(\"BlackRatingDiff\").isNull(), round(col(\"BlackRatingDiff\"), 1))\n",
    "    .when((col(\"Result\") == \"0-1\") & col(\"BlackRatingDiff\").isNull(), round(col(\"BlackRatingDiff\"), 1))\n",
    "    .when((col(\"Result\") == \"1/2-1/2\") & col(\"BlackRatingDiff\").isNull(), round(col(\"BlackRatingDiff\"), 1))\n",
    "    .otherwise(col(\"BlackRatingDiff\"))\n",
    ")"
   ]
  },
  {
   "cell_type": "code",
   "execution_count": 23,
   "metadata": {},
   "outputs": [],
   "source": [
    "df11 = df10.withColumn(\"UTCDate\", to_date(\"UTCDate\", \"yyyy.MM.dd\"))"
   ]
  },
  {
   "cell_type": "code",
   "execution_count": 58,
   "metadata": {},
   "outputs": [
    {
     "name": "stdout",
     "output_type": "stream",
     "text": [
      "+-------+----------------+----------------+------+----------+-------------------+--------+--------+---------------+---------------+---+--------------------+-----------+------------+\n",
      "|  Event|           White|           Black|Result|   UTCDate|            UTCTime|WhiteElo|BlackElo|WhiteRatingDiff|BlackRatingDiff|ECO|             Opening|TimeControl| Termination|\n",
      "+-------+----------------+----------------+------+----------+-------------------+--------+--------+---------------+---------------+---+--------------------+-----------+------------+\n",
      "| Bullet|   sefikzvekic12|         lazaeta|   1-0|2016-06-30|2023-11-13 22:00:54|    1816|    1671|              7|             -6|A04|Zukertort Opening...|      120+0|Time forfeit|\n",
      "|  Blitz|       pokermoon|         definho|   0-1|2016-06-30|2023-11-13 22:02:44|    1694|    1855|             -7|              7|B00|        Owen Defense|      180+0|Time forfeit|\n",
      "|  Blitz|        dondik96|      anylaury21|   1-0|2016-06-30|2023-11-13 22:03:49|    1755|    1748|             10|            -10|C00|French Defense: N...|      300+0|Time forfeit|\n",
      "|  Blitz|    littlenemo13|       sonrozkan|   1-0|2016-06-30|2023-11-13 22:03:53|    1986|    1923|              9|             -8|C31|King's Gambit, Fa...|      300+0|      Normal|\n",
      "|  Blitz|       Netao_slz|     perrocabron|   0-1|2016-06-30|2023-11-13 22:03:58|    2212|    2006|           -111|             14|B43|Sicilian Defense:...|      180+0|      Normal|\n",
      "|  Blitz|      LetsChessL|   mohammedalfdl|   0-1|2016-06-30|2023-11-13 22:06:54|    1964|    1757|            -19|             17|C30|King's Gambit: Pa...|      300+0|      Normal|\n",
      "|Classic|       mindelo82|     mostafa1336|   0-1|2016-06-30|2023-11-13 22:10:33|    1940|    1815|             -4|              5|D00|Queen's Pawn Game...|     1200+0|      Normal|\n",
      "|  Blitz|         bardame|       vasiliy76|   1-0|2016-06-30|2023-11-13 22:10:39|    1519|    1421|              8|             -8|B40|Sicilian Defense:...|      420+0|      Normal|\n",
      "|  Blitz|          s3r6i0|          Oper26|   1-0|2016-06-30|2023-11-13 22:10:46|    1576|    1540|             10|             -9|B00|  St. George Defense|      300+0|      Normal|\n",
      "| Bullet|        lichinut|          gioele|   1-0|2016-06-30|2023-11-13 22:10:57|    1828|    1661|              6|             -7|A08|King's Indian Att...|       60+0|Time forfeit|\n",
      "|  Blitz|       Aexchange|        arkadyNa|   1-0|2016-06-30|2023-11-13 22:10:57|    2056|    1580|              2|             -2|D02|Queen's Pawn Game...|      180+0|Time forfeit|\n",
      "|  Blitz|       OsvyChess|          Ahells|   1-0|2016-06-30|2023-11-13 22:13:51|    1641|    1693|             13|            -11|C88|   Ruy Lopez: Closed|      180+3|      Normal|\n",
      "|  Blitz|maestro_aberbach|        Faysalov|   1-0|2016-06-30|2023-11-13 22:15:19|    1733|    1490|              4|             -5|C30|       King's Gambit|      180+0|      Normal|\n",
      "|  Blitz|          Yuki61|           L3nin|   0-1|2016-06-30|2023-11-13 22:16:23|    1811|    1683|            -14|             16|C00|French Defense: K...|      180+0|      Normal|\n",
      "|Classic|            K6S1|       Ludwich97|   0-1|2016-06-30|2023-11-13 22:18:06|    1882|    1739|            -15|             15|C53|Italian Game: Cla...|      600+0|      Normal|\n",
      "| Bullet|       Macxsimus|BeautifulSquares|   1-0|2016-06-30|2023-11-13 22:20:25|    1859|    1739|              7|             -7|C55|Italian Game: Two...|       60+0|Time forfeit|\n",
      "| Bullet|        SHIMMA77|      O-Dannyboy|   1-0|2016-06-30|2023-11-13 22:21:59|    1635|    1975|             22|            -21|B80|Sicilian Defense:...|       60+0|Time forfeit|\n",
      "|  Blitz|         narfito|           Vanir|   1-0|2016-06-30|2023-11-13 22:25:01|    1185|    1641|             34|           -176|B02|Alekhine Defense:...|      300+0|Time forfeit|\n",
      "|Classic|      ahmadyehia|         srcmt13|   0-1|2016-06-30|2023-11-13 22:28:05|    1699|    1530|            -16|             16|D00|Queen's Pawn Game...|      600+0|Time forfeit|\n",
      "| Bullet|       DevilFish|        mwbierna|   0-1|2016-06-30|2023-11-13 22:30:02|    2216|    2034|            -19|             19|A00|    Van Geet Opening|       60+0|Time forfeit|\n",
      "+-------+----------------+----------------+------+----------+-------------------+--------+--------+---------------+---------------+---+--------------------+-----------+------------+\n",
      "only showing top 20 rows\n",
      "\n",
      "root\n",
      " |-- Event: string (nullable = true)\n",
      " |-- White: string (nullable = true)\n",
      " |-- Black: string (nullable = true)\n",
      " |-- Result: string (nullable = true)\n",
      " |-- UTCDate: date (nullable = true)\n",
      " |-- UTCTime: timestamp (nullable = true)\n",
      " |-- WhiteElo: integer (nullable = true)\n",
      " |-- BlackElo: integer (nullable = true)\n",
      " |-- WhiteRatingDiff: integer (nullable = true)\n",
      " |-- BlackRatingDiff: integer (nullable = true)\n",
      " |-- ECO: string (nullable = true)\n",
      " |-- Opening: string (nullable = true)\n",
      " |-- TimeControl: string (nullable = true)\n",
      " |-- Termination: string (nullable = true)\n",
      "\n"
     ]
    }
   ],
   "source": [
    "df11 = df11.withColumn('WhiteRatingDiff', col('WhiteRatingDiff').cast(IntegerType()))\n",
    "df11 = df11.withColumn('BlackRatingDiff', col('BlackRatingDiff').cast(IntegerType()))\n",
    "\n",
    "df11.show()\n",
    "df11.printSchema()"
   ]
  },
  {
   "cell_type": "markdown",
   "metadata": {},
   "source": [
    "## Analytics"
   ]
  },
  {
   "cell_type": "markdown",
   "metadata": {},
   "source": [
    "### Win-Loss Ratio: Calculate the win-loss ratio for White and Black players to understand if there is a bias toward one side winning more frequently."
   ]
  },
  {
   "cell_type": "code",
   "execution_count": 27,
   "metadata": {},
   "outputs": [
    {
     "name": "stdout",
     "output_type": "stream",
     "text": [
      "+-------+-------+\n",
      "| Result|  count|\n",
      "+-------+-------+\n",
      "|1/2-1/2|  47812|\n",
      "|    1-0|3198560|\n",
      "|    0-1|2985534|\n",
      "+-------+-------+\n",
      "\n"
     ]
    }
   ],
   "source": [
    "df11.groupBy('Result').count().show()"
   ]
  },
  {
   "cell_type": "markdown",
   "metadata": {},
   "source": [
    "### Popular Openings: Determine the most frequently played openings by examining the ECO codes"
   ]
  },
  {
   "cell_type": "code",
   "execution_count": 28,
   "metadata": {},
   "outputs": [
    {
     "name": "stdout",
     "output_type": "stream",
     "text": [
      "+---+------+\n",
      "|ECO| count|\n",
      "+---+------+\n",
      "|A23|   747|\n",
      "|B05|  1311|\n",
      "|B34|  8705|\n",
      "|A47|  1299|\n",
      "|E83|   597|\n",
      "|E44|   168|\n",
      "|D81|   114|\n",
      "|B01|285707|\n",
      "|C22| 21522|\n",
      "|A65|  2852|\n",
      "|E56|    47|\n",
      "|A46| 33884|\n",
      "|C78|  4449|\n",
      "|B92|  2502|\n",
      "|C24| 30051|\n",
      "|C95|   282|\n",
      "|C77|  5769|\n",
      "|D16|   791|\n",
      "|D98|    23|\n",
      "|C98|    52|\n",
      "+---+------+\n",
      "only showing top 20 rows\n",
      "\n"
     ]
    }
   ],
   "source": [
    "df11.groupBy('ECO').count().show()"
   ]
  },
  {
   "cell_type": "markdown",
   "metadata": {},
   "source": [
    "### Analyze the success rates of these openings to identify which ones are more effective."
   ]
  },
  {
   "cell_type": "code",
   "execution_count": 29,
   "metadata": {},
   "outputs": [
    {
     "name": "stdout",
     "output_type": "stream",
     "text": [
      "+---+------+------+-------+\n",
      "|ECO|   1-0|   0-1|1/2-1/2|\n",
      "+---+------+------+-------+\n",
      "|A23|   387|   352|      8|\n",
      "|B05|   622|   678|     11|\n",
      "|E02|    16|    16|      1|\n",
      "|B79|    12|    15|   NULL|\n",
      "|D81|    57|    57|   NULL|\n",
      "|E83|   297|   292|      8|\n",
      "|B34|  4092|  4541|     72|\n",
      "|A47|   643|   642|     14|\n",
      "|E44|    98|    65|      5|\n",
      "|A76|    35|    21|   NULL|\n",
      "|B01|147777|135847|   2083|\n",
      "|C22|  8833| 12553|    136|\n",
      "|A65|  1446|  1388|     18|\n",
      "|E56|    32|    15|   NULL|\n",
      "|D28|     6|     9|   NULL|\n",
      "|B92|  1177|  1307|     18|\n",
      "|A46| 16954| 16625|    305|\n",
      "|C78|  2559|  1865|     25|\n",
      "|C24| 15630| 14199|    222|\n",
      "|C95|   134|   146|      2|\n",
      "+---+------+------+-------+\n",
      "only showing top 20 rows\n",
      "\n"
     ]
    }
   ],
   "source": [
    "df11.groupBy(\"ECO\").pivot(\"Result\", values=[\"1-0\", \"0-1\", \"1/2-1/2\"]).agg(count(\"*\").alias(\"count\")).show()"
   ]
  },
  {
   "cell_type": "markdown",
   "metadata": {},
   "source": [
    "### Are certain openings associated with higher win rates for White or Black?"
   ]
  },
  {
   "cell_type": "code",
   "execution_count": 42,
   "metadata": {},
   "outputs": [],
   "source": [
    "df12 = df11.groupBy(\"ECO\", \"Result\").agg((when(col(\"Result\") == \"1-0\", 1).otherwise(0)).alias(\"white_win\"),\n",
    "                                      (when(col(\"Result\") == \"0-1\", 1).otherwise(0)).alias(\"black_win\")) \\\n",
    ".groupBy(\"ECO\").agg((sum(\"white_win\") / (sum(\"white_win\") + sum(\"black_win\"))).alias(\"white_win_rate\"),\n",
    "                        (sum(\"black_win\") / (sum(\"white_win\") + sum(\"black_win\"))).alias(\"black_win_rate\"))"
   ]
  },
  {
   "cell_type": "code",
   "execution_count": 43,
   "metadata": {},
   "outputs": [
    {
     "name": "stdout",
     "output_type": "stream",
     "text": [
      "+---+--------------+--------------+\n",
      "|ECO|white_win_rate|black_win_rate|\n",
      "+---+--------------+--------------+\n",
      "|A23|0.50          |0.50          |\n",
      "|B05|0.50          |0.50          |\n",
      "|B79|0.50          |0.50          |\n",
      "|E02|0.50          |0.50          |\n",
      "|D81|0.50          |0.50          |\n",
      "|A47|0.50          |0.50          |\n",
      "|E83|0.50          |0.50          |\n",
      "|B34|0.50          |0.50          |\n",
      "|A76|0.50          |0.50          |\n",
      "|E44|0.50          |0.50          |\n",
      "|B01|0.50          |0.50          |\n",
      "|C22|0.50          |0.50          |\n",
      "|A65|0.50          |0.50          |\n",
      "|D28|0.50          |0.50          |\n",
      "|E56|0.50          |0.50          |\n",
      "|B92|0.50          |0.50          |\n",
      "|A46|0.50          |0.50          |\n",
      "|C78|0.50          |0.50          |\n",
      "|C24|0.50          |0.50          |\n",
      "|C95|0.50          |0.50          |\n",
      "|C98|0.50          |0.50          |\n",
      "|C77|0.50          |0.50          |\n",
      "|D16|0.50          |0.50          |\n",
      "|D98|0.50          |0.50          |\n",
      "|A92|0.50          |0.50          |\n",
      "|E35|0.50          |0.50          |\n",
      "|B39|0.50          |0.50          |\n",
      "|B22|0.50          |0.50          |\n",
      "|D93|0.50          |0.50          |\n",
      "|D21|0.50          |0.50          |\n",
      "|B99|0.50          |0.50          |\n",
      "|A62|0.50          |0.50          |\n",
      "|E66|0.50          |0.50          |\n",
      "|D29|0.50          |0.50          |\n",
      "|B30|0.50          |0.50          |\n",
      "|C03|0.50          |0.50          |\n",
      "|B06|0.50          |0.50          |\n",
      "|A35|0.50          |0.50          |\n",
      "|B85|0.50          |0.50          |\n",
      "|B50|0.50          |0.50          |\n",
      "|E84|0.50          |0.50          |\n",
      "|C31|0.50          |0.50          |\n",
      "|E31|0.50          |0.50          |\n",
      "|C42|0.50          |0.50          |\n",
      "|D09|0.50          |0.50          |\n",
      "|D45|0.50          |0.50          |\n",
      "|D87|0.50          |0.50          |\n",
      "|C90|0.50          |0.50          |\n",
      "|A60|0.50          |0.50          |\n",
      "|C45|0.50          |0.50          |\n",
      "|B90|0.50          |0.50          |\n",
      "|C65|0.50          |0.50          |\n",
      "|A68|0.50          |0.50          |\n",
      "|A01|0.50          |0.50          |\n",
      "|D27|0.50          |0.50          |\n",
      "|A61|0.50          |0.50          |\n",
      "|E06|0.50          |0.50          |\n",
      "|D53|0.50          |0.50          |\n",
      "|A19|0.50          |0.50          |\n",
      "|A37|0.50          |0.50          |\n",
      "|D03|0.50          |0.50          |\n",
      "|E57|0.50          |0.50          |\n",
      "|D05|0.50          |0.50          |\n",
      "|E03|0.50          |0.50          |\n",
      "|A21|0.50          |0.50          |\n",
      "|B56|0.50          |0.50          |\n",
      "|E16|0.50          |0.50          |\n",
      "|A16|0.50          |0.50          |\n",
      "|E33|0.50          |0.50          |\n",
      "|E87|0.50          |0.50          |\n",
      "|A67|0.50          |0.50          |\n",
      "|E10|0.50          |0.50          |\n",
      "|D73|0.50          |0.50          |\n",
      "|D18|0.50          |0.50          |\n",
      "|B46|0.50          |0.50          |\n",
      "|E42|0.50          |0.50          |\n",
      "|C82|0.50          |0.50          |\n",
      "|D20|0.50          |0.50          |\n",
      "|E28|0.50          |0.50          |\n",
      "|A17|0.50          |0.50          |\n",
      "|E21|0.50          |0.50          |\n",
      "|C25|0.50          |0.50          |\n",
      "|B64|0.50          |0.50          |\n",
      "|E77|0.50          |0.50          |\n",
      "|A43|0.50          |0.50          |\n",
      "|A59|0.50          |0.50          |\n",
      "|D88|0.50          |0.50          |\n",
      "|D80|0.50          |0.50          |\n",
      "|A18|0.50          |0.50          |\n",
      "|E70|0.50          |0.50          |\n",
      "|C58|0.50          |0.50          |\n",
      "|A73|0.50          |0.50          |\n",
      "|B59|0.50          |0.50          |\n",
      "|A66|0.50          |0.50          |\n",
      "|E48|0.50          |0.50          |\n",
      "|B38|0.50          |0.50          |\n",
      "|C48|0.50          |0.50          |\n",
      "|C29|0.50          |0.50          |\n",
      "|A32|0.50          |0.50          |\n",
      "|B25|0.50          |0.50          |\n",
      "|C87|0.50          |0.50          |\n",
      "|B20|0.50          |0.50          |\n",
      "|E50|0.50          |0.50          |\n",
      "|D60|0.50          |0.50          |\n",
      "|B80|0.50          |0.50          |\n",
      "|E59|0.50          |0.50          |\n",
      "|D58|0.50          |0.50          |\n",
      "|A22|0.50          |0.50          |\n",
      "|C35|0.50          |0.50          |\n",
      "|B57|0.50          |0.50          |\n",
      "|E49|0.50          |0.50          |\n",
      "|D48|0.50          |0.50          |\n",
      "|D76|0.50          |0.50          |\n",
      "|E65|0.50          |0.50          |\n",
      "|C21|0.50          |0.50          |\n",
      "|D04|0.50          |0.50          |\n",
      "|E45|0.50          |0.50          |\n",
      "|A36|0.50          |0.50          |\n",
      "|D34|0.50          |0.50          |\n",
      "|D79|0.50          |0.50          |\n",
      "|D37|0.50          |0.50          |\n",
      "|C83|0.50          |0.50          |\n",
      "|B29|0.50          |0.50          |\n",
      "|C38|0.50          |0.50          |\n",
      "|B26|0.50          |0.50          |\n",
      "|D75|0.50          |0.50          |\n",
      "|A33|0.50          |0.50          |\n",
      "|A41|0.50          |0.50          |\n",
      "|E72|0.50          |0.50          |\n",
      "|E43|0.50          |0.50          |\n",
      "|A57|0.50          |0.50          |\n",
      "|C72|0.50          |0.50          |\n",
      "|A54|0.50          |0.50          |\n",
      "|E96|0.00          |1.00          |\n",
      "|E04|0.50          |0.50          |\n",
      "|D32|0.50          |0.50          |\n",
      "|B65|0.50          |0.50          |\n",
      "|C18|0.50          |0.50          |\n",
      "|D67|0.50          |0.50          |\n",
      "|D35|0.50          |0.50          |\n",
      "|E27|0.50          |0.50          |\n",
      "|A38|0.50          |0.50          |\n",
      "|E23|0.50          |0.50          |\n",
      "|A52|0.50          |0.50          |\n",
      "|D44|0.50          |0.50          |\n",
      "|B13|0.50          |0.50          |\n",
      "|E93|0.50          |0.50          |\n",
      "|B07|0.50          |0.50          |\n",
      "|C44|0.50          |0.50          |\n",
      "|C01|0.50          |0.50          |\n",
      "|B47|0.50          |0.50          |\n",
      "|A29|0.50          |0.50          |\n",
      "|B45|0.50          |0.50          |\n",
      "|B52|0.50          |0.50          |\n",
      "|E85|0.50          |0.50          |\n",
      "|D77|0.50          |0.50          |\n",
      "|C96|0.50          |0.50          |\n",
      "|B87|0.50          |0.50          |\n",
      "|D15|0.50          |0.50          |\n",
      "|B55|0.50          |0.50          |\n",
      "|C11|0.50          |0.50          |\n",
      "|E73|0.50          |0.50          |\n",
      "|E86|0.50          |0.50          |\n",
      "|C06|0.50          |0.50          |\n",
      "|C12|0.50          |0.50          |\n",
      "|D12|0.50          |0.50          |\n",
      "|B18|0.50          |0.50          |\n",
      "|E08|0.50          |0.50          |\n",
      "|A53|0.50          |0.50          |\n",
      "|A11|0.50          |0.50          |\n",
      "|C14|0.50          |0.50          |\n",
      "|B02|0.50          |0.50          |\n",
      "|C54|0.50          |0.50          |\n",
      "|A27|0.50          |0.50          |\n",
      "|B16|0.50          |0.50          |\n",
      "|C37|0.50          |0.50          |\n",
      "|A99|0.50          |0.50          |\n",
      "|C20|0.50          |0.50          |\n",
      "|D46|0.50          |0.50          |\n",
      "|A89|0.50          |0.50          |\n",
      "|A82|0.50          |0.50          |\n",
      "|D90|0.50          |0.50          |\n",
      "|B68|0.50          |0.50          |\n",
      "|B19|0.50          |0.50          |\n",
      "|E91|0.50          |0.50          |\n",
      "|C68|0.50          |0.50          |\n",
      "|C50|0.50          |0.50          |\n",
      "|B61|0.50          |0.50          |\n",
      "|A70|0.50          |0.50          |\n",
      "|D40|0.50          |0.50          |\n",
      "|C08|0.50          |0.50          |\n",
      "|A00|0.50          |0.50          |\n",
      "|C69|0.50          |0.50          |\n",
      "|B88|0.50          |0.50          |\n",
      "|C36|0.50          |0.50          |\n",
      "|C93|0.50          |0.50          |\n",
      "|A09|0.50          |0.50          |\n",
      "|E36|0.50          |0.50          |\n",
      "|E29|0.50          |0.50          |\n",
      "|D00|0.50          |0.50          |\n",
      "|C34|0.50          |0.50          |\n",
      "|E46|0.50          |0.50          |\n",
      "|C33|0.50          |0.50          |\n",
      "|B83|0.50          |0.50          |\n",
      "|D31|0.50          |0.50          |\n",
      "|B09|0.50          |0.50          |\n",
      "|E19|0.50          |0.50          |\n",
      "|D57|0.50          |0.50          |\n",
      "|A03|0.50          |0.50          |\n",
      "|E97|0.50          |0.50          |\n",
      "|A42|0.50          |0.50          |\n",
      "|C79|0.50          |0.50          |\n",
      "|C30|0.50          |0.50          |\n",
      "|E82|0.50          |0.50          |\n",
      "|D86|0.50          |0.50          |\n",
      "|A55|0.50          |0.50          |\n",
      "|E53|0.50          |0.50          |\n",
      "|A25|0.50          |0.50          |\n",
      "|E01|0.50          |0.50          |\n",
      "|D97|0.50          |0.50          |\n",
      "|B44|0.50          |0.50          |\n",
      "|C40|0.50          |0.50          |\n",
      "|B62|0.50          |0.50          |\n",
      "|D41|0.50          |0.50          |\n",
      "|D25|0.50          |0.50          |\n",
      "|E13|0.50          |0.50          |\n",
      "|C94|0.50          |0.50          |\n",
      "|A58|0.50          |0.50          |\n",
      "|D94|0.50          |0.50          |\n",
      "|C00|0.50          |0.50          |\n",
      "|A26|0.50          |0.50          |\n",
      "|B63|0.50          |0.50          |\n",
      "|E41|0.50          |0.50          |\n",
      "|D96|0.50          |0.50          |\n",
      "|A98|0.50          |0.50          |\n",
      "|B98|0.50          |0.50          |\n",
      "|C27|0.50          |0.50          |\n",
      "|D24|0.50          |0.50          |\n",
      "|A78|0.50          |0.50          |\n",
      "|C07|0.50          |0.50          |\n",
      "|A69|0.50          |0.50          |\n",
      "|E60|0.50          |0.50          |\n",
      "|D89|0.50          |0.50          |\n",
      "|C85|0.50          |0.50          |\n",
      "|A79|0.50          |0.50          |\n",
      "|D72|0.50          |0.50          |\n",
      "|D70|0.50          |0.50          |\n",
      "|A95|0.50          |0.50          |\n",
      "|A91|0.50          |0.50          |\n",
      "|D47|0.50          |0.50          |\n",
      "|E52|0.50          |0.50          |\n",
      "|D83|0.50          |0.50          |\n",
      "|E00|0.50          |0.50          |\n",
      "|B28|0.50          |0.50          |\n",
      "|D82|0.50          |0.50          |\n",
      "|B71|0.50          |0.50          |\n",
      "|E75|0.50          |0.50          |\n",
      "|B36|0.50          |0.50          |\n",
      "|D52|0.50          |0.50          |\n",
      "|A31|0.50          |0.50          |\n",
      "|E74|0.50          |0.50          |\n",
      "|D71|0.50          |0.50          |\n",
      "|D69|0.50          |0.50          |\n",
      "|E78|0.50          |0.50          |\n",
      "|B43|0.50          |0.50          |\n",
      "|C05|0.50          |0.50          |\n",
      "|A74|0.50          |0.50          |\n",
      "|E67|0.50          |0.50          |\n",
      "|E15|0.50          |0.50          |\n",
      "|A10|0.50          |0.50          |\n",
      "|E51|0.50          |0.50          |\n",
      "|D30|0.50          |0.50          |\n",
      "|B53|0.50          |0.50          |\n",
      "|C84|0.50          |0.50          |\n",
      "|C56|0.50          |0.50          |\n",
      "|C71|0.50          |0.50          |\n",
      "|E76|0.50          |0.50          |\n",
      "|D19|0.50          |0.50          |\n",
      "|B00|0.50          |0.50          |\n",
      "|B37|0.50          |0.50          |\n",
      "|E25|0.50          |0.50          |\n",
      "|A88|0.50          |0.50          |\n",
      "|C63|0.50          |0.50          |\n",
      "|C86|0.50          |0.50          |\n",
      "|A20|0.50          |0.50          |\n",
      "|B82|0.50          |0.50          |\n",
      "|E79|0.50          |0.50          |\n",
      "|D43|0.50          |0.50          |\n",
      "|B74|0.50          |0.50          |\n",
      "|B76|0.50          |0.50          |\n",
      "|C73|0.50          |0.50          |\n",
      "|E40|0.50          |0.50          |\n",
      "|D17|0.50          |0.50          |\n",
      "|C16|0.50          |0.50          |\n",
      "|B31|0.50          |0.50          |\n",
      "|D07|0.50          |0.50          |\n",
      "|B10|0.50          |0.50          |\n",
      "|E37|0.50          |0.50          |\n",
      "|B32|0.50          |0.50          |\n",
      "|E47|0.50          |0.50          |\n",
      "|C28|0.50          |0.50          |\n",
      "|C52|0.50          |0.50          |\n",
      "|C91|0.50          |0.50          |\n",
      "|A28|0.50          |0.50          |\n",
      "|D78|0.50          |0.50          |\n",
      "|B77|0.50          |0.50          |\n",
      "|C76|1.00          |0.00          |\n",
      "|D01|0.50          |0.50          |\n",
      "|C64|0.50          |0.50          |\n",
      "|A81|0.50          |0.50          |\n",
      "|B95|0.50          |0.50          |\n",
      "|D02|0.50          |0.50          |\n",
      "|B86|0.50          |0.50          |\n",
      "|D92|0.50          |0.50          |\n",
      "|A63|0.50          |0.50          |\n",
      "|D39|0.50          |0.50          |\n",
      "|A40|0.50          |0.50          |\n",
      "|E62|0.50          |0.50          |\n",
      "|D33|0.50          |0.50          |\n",
      "|C60|0.50          |0.50          |\n",
      "|B94|0.50          |0.50          |\n",
      "|D49|0.50          |0.50          |\n",
      "|B60|0.50          |0.50          |\n",
      "|A94|0.50          |0.50          |\n",
      "|B75|0.50          |0.50          |\n",
      "|E61|0.50          |0.50          |\n",
      "|E64|0.50          |0.50          |\n",
      "|A15|0.50          |0.50          |\n",
      "|A93|0.50          |0.50          |\n",
      "|E32|0.50          |0.50          |\n",
      "|D61|0.50          |0.50          |\n",
      "|D06|0.50          |0.50          |\n",
      "|D51|0.50          |0.50          |\n",
      "|B72|0.50          |0.50          |\n",
      "|D84|0.50          |0.50          |\n",
      "|E05|0.50          |0.50          |\n",
      "|A50|0.50          |0.50          |\n",
      "|D08|0.50          |0.50          |\n",
      "|A87|0.50          |0.50          |\n",
      "|E94|0.50          |0.50          |\n",
      "|E99|0.50          |0.50          |\n",
      "|A85|0.50          |0.50          |\n",
      "|A30|0.50          |0.50          |\n",
      "|B89|0.50          |0.50          |\n",
      "|B21|0.50          |0.50          |\n",
      "|C02|0.50          |0.50          |\n",
      "|D59|0.50          |0.50          |\n",
      "|E24|0.50          |0.50          |\n",
      "|C39|0.50          |0.50          |\n",
      "|E07|0.50          |0.50          |\n",
      "|E98|0.50          |0.50          |\n",
      "|B67|0.50          |0.50          |\n",
      "|E63|0.50          |0.50          |\n",
      "|A14|0.50          |0.50          |\n",
      "|C59|0.50          |0.50          |\n",
      "|A72|0.50          |0.50          |\n",
      "|C67|0.50          |0.50          |\n",
      "|A24|0.50          |0.50          |\n",
      "|D10|0.50          |0.50          |\n",
      "|A96|0.50          |0.50          |\n",
      "|C75|0.50          |0.50          |\n",
      "|C92|0.50          |0.50          |\n",
      "|A56|0.50          |0.50          |\n",
      "|A77|0.50          |0.50          |\n",
      "|E81|0.50          |0.50          |\n",
      "|D36|0.50          |0.50          |\n",
      "|B66|0.50          |0.50          |\n",
      "|B23|0.50          |0.50          |\n",
      "|D62|0.50          |0.50          |\n",
      "|C46|0.50          |0.50          |\n",
      "|B48|0.50          |0.50          |\n",
      "|B04|0.50          |0.50          |\n",
      "|E12|0.50          |0.50          |\n",
      "|E34|0.50          |0.50          |\n",
      "|D50|0.50          |0.50          |\n",
      "|C99|0.50          |0.50          |\n",
      "|E38|0.50          |0.50          |\n",
      "|C09|0.50          |0.50          |\n",
      "|D68|0.50          |0.50          |\n",
      "|A64|0.50          |0.50          |\n",
      "|B24|0.50          |0.50          |\n",
      "|C47|0.50          |0.50          |\n",
      "|D85|0.50          |0.50          |\n",
      "|A75|0.50          |0.50          |\n",
      "|E89|0.50          |0.50          |\n",
      "|A97|0.50          |0.50          |\n",
      "|A08|0.50          |0.50          |\n",
      "|B27|0.50          |0.50          |\n",
      "|D26|0.50          |0.50          |\n",
      "|C13|0.50          |0.50          |\n",
      "|E09|0.50          |0.50          |\n",
      "|B14|0.50          |0.50          |\n",
      "|A49|0.50          |0.50          |\n",
      "|C61|0.50          |0.50          |\n",
      "|C57|0.50          |0.50          |\n",
      "|D14|0.50          |0.50          |\n",
      "|A06|0.50          |0.50          |\n",
      "|D74|0.50          |0.50          |\n",
      "|B96|0.50          |0.50          |\n",
      "|C32|0.50          |0.50          |\n",
      "|E14|0.50          |0.50          |\n",
      "|D95|0.50          |0.50          |\n",
      "|C15|0.50          |0.50          |\n",
      "|C43|0.50          |0.50          |\n",
      "|D13|0.50          |0.50          |\n",
      "|B73|0.50          |0.50          |\n",
      "|E20|0.50          |0.50          |\n",
      "|C97|0.50          |0.50          |\n",
      "|B12|0.50          |0.50          |\n",
      "|A90|0.50          |0.50          |\n",
      "|E26|0.50          |0.50          |\n",
      "|C89|0.50          |0.50          |\n",
      "|C26|0.50          |0.50          |\n",
      "|D38|0.50          |0.50          |\n",
      "|A07|0.50          |0.50          |\n",
      "|E22|0.50          |0.50          |\n",
      "|A86|0.50          |0.50          |\n",
      "|A12|0.50          |0.50          |\n",
      "|E90|0.50          |0.50          |\n",
      "|B17|0.50          |0.50          |\n",
      "|A71|0.50          |0.50          |\n",
      "|D42|0.50          |0.50          |\n",
      "|C80|0.50          |0.50          |\n",
      "|B03|0.50          |0.50          |\n",
      "|C88|0.50          |0.50          |\n",
      "|B40|0.50          |0.50          |\n",
      "|B58|0.50          |0.50          |\n",
      "|B69|1.00          |0.00          |\n",
      "|E39|0.50          |0.50          |\n",
      "|E17|0.50          |0.50          |\n",
      "|C17|0.50          |0.50          |\n",
      "|B35|0.50          |0.50          |\n",
      "|B08|0.50          |0.50          |\n",
      "|A84|0.50          |0.50          |\n",
      "|A45|0.50          |0.50          |\n",
      "|A04|0.50          |0.50          |\n",
      "|C04|0.50          |0.50          |\n",
      "|A80|0.50          |0.50          |\n",
      "|B81|0.50          |0.50          |\n",
      "|B91|0.50          |0.50          |\n",
      "|B97|0.50          |0.50          |\n",
      "|E95|0.50          |0.50          |\n",
      "|B49|0.50          |0.50          |\n",
      "|A02|0.50          |0.50          |\n",
      "|C62|0.50          |0.50          |\n",
      "|E55|0.50          |0.50          |\n",
      "|B54|0.50          |0.50          |\n",
      "|D11|0.50          |0.50          |\n",
      "|A83|0.50          |0.50          |\n",
      "|B15|0.50          |0.50          |\n",
      "|E11|0.50          |0.50          |\n",
      "|A39|0.50          |0.50          |\n",
      "|C74|0.50          |0.50          |\n",
      "|D23|0.50          |0.50          |\n",
      "|C41|0.50          |0.50          |\n",
      "|C70|0.50          |0.50          |\n",
      "|D22|0.50          |0.50          |\n",
      "|C10|0.50          |0.50          |\n",
      "|B78|0.50          |0.50          |\n",
      "|C81|0.50          |0.50          |\n",
      "|A13|0.50          |0.50          |\n",
      "|E30|0.50          |0.50          |\n",
      "|E54|0.50          |0.50          |\n",
      "|C49|0.50          |0.50          |\n",
      "|B70|0.50          |0.50          |\n",
      "|E71|0.50          |0.50          |\n",
      "|E69|0.50          |0.50          |\n",
      "|E18|0.50          |0.50          |\n",
      "|C51|0.50          |0.50          |\n",
      "|C66|0.50          |0.50          |\n",
      "|E92|0.50          |0.50          |\n",
      "|C53|0.50          |0.50          |\n",
      "|B33|0.50          |0.50          |\n",
      "|B93|0.50          |0.50          |\n",
      "|E68|0.50          |0.50          |\n",
      "|D56|0.50          |0.50          |\n",
      "|C55|0.50          |0.50          |\n",
      "|D91|0.50          |0.50          |\n",
      "|E88|0.50          |0.50          |\n",
      "|B42|0.50          |0.50          |\n",
      "|B84|0.50          |0.50          |\n",
      "|A51|0.50          |0.50          |\n",
      "|B11|0.50          |0.50          |\n",
      "|A34|0.50          |0.50          |\n",
      "|A48|0.50          |0.50          |\n",
      "|B41|0.50          |0.50          |\n",
      "|D55|0.50          |0.50          |\n",
      "|A05|0.50          |0.50          |\n",
      "|A44|0.50          |0.50          |\n",
      "|B51|0.50          |0.50          |\n",
      "|E80|0.50          |0.50          |\n",
      "|C23|0.50          |0.50          |\n",
      "|C19|0.50          |0.50          |\n",
      "+---+--------------+--------------+\n",
      "\n"
     ]
    }
   ],
   "source": [
    "df12 = df12.withColumn(\"white_win_rate\", format_number(\"white_win_rate\", 2)) \\\n",
    "    .withColumn(\"black_win_rate\", format_number(\"black_win_rate\", 2)).show(n=df12.count(), truncate=False)"
   ]
  },
  {
   "cell_type": "markdown",
   "metadata": {},
   "source": [
    "### Do shorter time controls lead to more decisive results, such as wins or losses?"
   ]
  },
  {
   "cell_type": "markdown",
   "metadata": {},
   "source": [
    "### Do longer games tend to favor stronger players?"
   ]
  },
  {
   "cell_type": "markdown",
   "metadata": {},
   "source": [
    "### Track the popularity of openings over time and see if certain openings go in and out of fashion"
   ]
  },
  {
   "cell_type": "code",
   "execution_count": null,
   "metadata": {},
   "outputs": [],
   "source": []
  },
  {
   "cell_type": "code",
   "execution_count": null,
   "metadata": {},
   "outputs": [],
   "source": [
    "df2.groupBy('Event').count().show()"
   ]
  },
  {
   "cell_type": "code",
   "execution_count": null,
   "metadata": {},
   "outputs": [],
   "source": [
    "df2.groupBy('Result').count().show()"
   ]
  },
  {
   "cell_type": "code",
   "execution_count": null,
   "metadata": {},
   "outputs": [],
   "source": [
    "df2.groupBy('Termination').count().show()"
   ]
  },
  {
   "cell_type": "code",
   "execution_count": null,
   "metadata": {},
   "outputs": [],
   "source": [
    "df1.where(\"Termination = 'Rules infraction'\").show()"
   ]
  },
  {
   "cell_type": "code",
   "execution_count": null,
   "metadata": {},
   "outputs": [],
   "source": [
    "df1.where(\"Termination = 'Abandoned'\").show()"
   ]
  },
  {
   "cell_type": "code",
   "execution_count": null,
   "metadata": {},
   "outputs": [],
   "source": [
    "df2.where(\"Result = '*'\").show()"
   ]
  },
  {
   "cell_type": "code",
   "execution_count": null,
   "metadata": {},
   "outputs": [],
   "source": [
    "df2.where(\"Result = '*'\").groupBy('Termination').count().show()"
   ]
  },
  {
   "cell_type": "code",
   "execution_count": null,
   "metadata": {},
   "outputs": [],
   "source": [
    "df2.show()"
   ]
  },
  {
   "cell_type": "code",
   "execution_count": null,
   "metadata": {},
   "outputs": [],
   "source": [
    "columns_to_check = [c for c in df1.columns if c != 'UTCTime']\n",
    "\n",
    "df2.select([count(when(col(c).isNull(), c)).alias(c) for c in columns_to_check]).show()"
   ]
  },
  {
   "cell_type": "code",
   "execution_count": null,
   "metadata": {},
   "outputs": [],
   "source": [
    "df5.where(\"Result = '*'\").show()"
   ]
  },
  {
   "cell_type": "code",
   "execution_count": null,
   "metadata": {},
   "outputs": [],
   "source": [
    "df8.filter(col(\"WhiteRatingDiff\").isNull()).show()"
   ]
  },
  {
   "cell_type": "code",
   "execution_count": null,
   "metadata": {},
   "outputs": [],
   "source": [
    "df6.filter(col(\"WhiteRatingDiff\").isNull() & col(\"BlackRatingDiff\").isNull() & (col(\"Result\") != '*')).show()"
   ]
  },
  {
   "cell_type": "code",
   "execution_count": null,
   "metadata": {},
   "outputs": [],
   "source": [
    "df5.filter(col(\"WhiteRatingDiff\").isNotNull() & col(\"BlackRatingDiff\").isNotNull() & (col(\"Result\") == '*')).show()"
   ]
  },
  {
   "cell_type": "code",
   "execution_count": null,
   "metadata": {},
   "outputs": [],
   "source": [
    "columns_to_check = [c for c in df11.columns if c != 'UTCTime']\n",
    "\n",
    "df11.select([count(when(col(c).isNull(), c)).alias(c) for c in columns_to_check]).show()"
   ]
  },
  {
   "cell_type": "code",
   "execution_count": null,
   "metadata": {},
   "outputs": [],
   "source": []
  }
 ],
 "metadata": {
  "kernelspec": {
   "display_name": "Python 3 (ipykernel)",
   "language": "python",
   "name": "python3"
  },
  "language_info": {
   "codemirror_mode": {
    "name": "ipython",
    "version": 3
   },
   "file_extension": ".py",
   "mimetype": "text/x-python",
   "name": "python",
   "nbconvert_exporter": "python",
   "pygments_lexer": "ipython3",
   "version": "3.11.5"
  }
 },
 "nbformat": 4,
 "nbformat_minor": 4
}
